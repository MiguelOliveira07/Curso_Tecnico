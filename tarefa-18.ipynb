{
 "cells": [
  {
   "cell_type": "code",
   "execution_count": 13,
   "id": "fbe6055b-319f-4423-b94e-014aa5174aa7",
   "metadata": {},
   "outputs": [
    {
     "name": "stdout",
     "output_type": "stream",
     "text": [
      "0:00:00 18/03/2025\n"
     ]
    }
   ],
   "source": [
    "from math import sqrt\n",
    "from random import randint\n",
    "from datetime import datetime\n",
    "\n",
    "inicio = datetime.now()\n",
    "\n",
    "for i in range(1, randint(int(sqrt(25)), 100)):\n",
    "    pass\n",
    "\n",
    "fim = datetime.now() \n",
    "\n",
    "tempo = fim - inicio\n",
    "\n",
    "data = inicio.strftime(\"%d/%m/%Y\")\n",
    "\n",
    "print(tempo, data)"
   ]
  },
  {
   "cell_type": "code",
   "execution_count": null,
   "id": "e46c2ce8-fba1-4875-ab74-3ae0c866ebf2",
   "metadata": {},
   "outputs": [],
   "source": []
  }
 ],
 "metadata": {
  "kernelspec": {
   "display_name": "Python 3 (ipykernel)",
   "language": "python",
   "name": "python3"
  },
  "language_info": {
   "codemirror_mode": {
    "name": "ipython",
    "version": 3
   },
   "file_extension": ".py",
   "mimetype": "text/x-python",
   "name": "python",
   "nbconvert_exporter": "python",
   "pygments_lexer": "ipython3",
   "version": "3.12.7"
  }
 },
 "nbformat": 4,
 "nbformat_minor": 5
}
