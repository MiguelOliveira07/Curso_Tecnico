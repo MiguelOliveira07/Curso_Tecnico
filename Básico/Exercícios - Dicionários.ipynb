{
 "cells": [
  {
   "cell_type": "markdown",
   "id": "98d1fc97",
   "metadata": {},
   "source": [
    "# Dicionários em Python\n",
    "\n",
    "### Estrutura:\n",
    "\n",
    "dicionario = {chave: valor, chave: valor, chave: valor, chave: valor ...}\n",
    "\n",
    "### Vantagens e Desvantagens\n",
    "\n",
    "- Não devem ser usados para pegar itens em uma determinada ordem\n",
    "- Podem ter valores heterogêneos (vários tipos de valores dentro de um mesmo dicionário: inteiros, strings, listas, etc)\n",
    "- Chaves são únicas obrigatoriamente\n",
    "- Mais intuitivos de trabalhar"
   ]
  },
  {
   "cell_type": "code",
   "execution_count": null,
   "id": "f630184f",
   "metadata": {},
   "outputs": [],
   "source": [
    "mais_vendidos = {'tecnologia': 'iphone', 'refrigeracao': 'ar consul 12000 btu', 'livros': 'o alquimista', 'eletrodoméstico': 'geladeira', 'lazer': 'prancha surf'}\n",
    "\n",
    "vendas_tecnologia = {'iphone': 15000, 'samsung galaxy': 12000, 'tv samsung': 10000, 'ps5': 14300, 'tablet': 1720, 'ipad': 1000, 'tv philco': 2500, 'notebook hp': 1000, 'notebook dell': 17000, 'notebook asus': 2450}"
   ]
  },
  {
   "cell_type": "markdown",
   "id": "50b8ad46",
   "metadata": {},
   "source": [
    "- Qual foi o item mais vendido nas categorias 'livros' e 'lazer'?\n",
    "- Quanto foi vendido de 'notebook asus' e de 'ipad'?"
   ]
  },
  {
   "cell_type": "code",
   "execution_count": null,
   "id": "8462ef0f",
   "metadata": {},
   "outputs": [
    {
     "ename": "NameError",
     "evalue": "name 'mais_vendidos' is not defined",
     "output_type": "error",
     "traceback": [
      "\u001b[1;31m---------------------------------------------------------------------------\u001b[0m",
      "\u001b[1;31mNameError\u001b[0m                                 Traceback (most recent call last)",
      "Cell \u001b[1;32mIn[1], line 1\u001b[0m\n\u001b[1;32m----> 1\u001b[0m \u001b[38;5;28mprint\u001b[39m(\u001b[43mmais_vendidos\u001b[49m[\u001b[38;5;124m'\u001b[39m\u001b[38;5;124mlivros\u001b[39m\u001b[38;5;124m'\u001b[39m])\n",
      "\u001b[1;31mNameError\u001b[0m: name 'mais_vendidos' is not defined"
     ]
    }
   ],
   "source": [
    "print(mais_vendidos['livros'])\n",
    "\n"
   ]
  },
  {
   "cell_type": "code",
   "execution_count": null,
   "id": "294c3360",
   "metadata": {},
   "outputs": [],
   "source": [
    "print(vendas_tecnologia['iphone'])"
   ]
  },
  {
   "cell_type": "markdown",
   "id": "09523bb8",
   "metadata": {},
   "source": [
    "# Não confie na ordem dos dicionários, use as chaves\n",
    "\n",
    "### Python Versões Antigas x Versões Novas\n",
    "\n",
    "- Dicionários eram \"sem ordem\". Atualmente tem ordem, mas o certo é usar as chaves\n",
    "- 2 formas de pegar um valor:\n",
    "    - dicionario[chave]\n",
    "    - .get(chave)"
   ]
  },
  {
   "cell_type": "code",
   "execution_count": null,
   "id": "1069e510",
   "metadata": {},
   "outputs": [],
   "source": [
    "mais_vendidos = {'tecnologia': 'iphone', 'refrigeracao': 'ar consul 12000 btu', 'livros': 'o alquimista', 'eletrodoméstico': 'geladeira', 'lazer': 'prancha surf'}\n",
    "\n",
    "vendas_tecnologia = {'iphone': 15000, 'samsung galaxy': 12000, 'tv samsung': 10000, 'ps5': 14300, 'tablet': 1720, 'ipad': 1000, 'tv philco': 2500, 'notebook hp': 1000, 'notebook dell': 17000, 'notebook asus': 2450}"
   ]
  },
  {
   "cell_type": "markdown",
   "id": "4df74d88",
   "metadata": {},
   "source": [
    "- Qual foi o item mais vendido nas categorias 'livros' e 'lazer'?\n",
    "- Quanto foi vendido de 'notebook asus' e de 'ipad'?"
   ]
  },
  {
   "cell_type": "code",
   "execution_count": null,
   "id": "7f453ffc",
   "metadata": {},
   "outputs": [],
   "source": [
    "# respondendo com a chave\n",
    "print(mais_vendidos['livros'])"
   ]
  },
  {
   "cell_type": "code",
   "execution_count": null,
   "id": "47a1589d",
   "metadata": {},
   "outputs": [],
   "source": [
    "# respondendo com o método get\n",
    "print(mais_vendidos.get('livros'))"
   ]
  },
  {
   "cell_type": "markdown",
   "id": "a9b4db76",
   "metadata": {},
   "source": [
    "### Verificar se item está no dicionário:\n",
    "\n",
    "- if\n",
    "- .get(chave) == None\n",
    "\n",
    "Se tentarmos procurar as vendas de \"copo\" na lista de vendas tecnologia, o que acontece?"
   ]
  },
  {
   "cell_type": "code",
   "execution_count": null,
   "id": "79e12ea6",
   "metadata": {},
   "outputs": [],
   "source": [
    "if 'livros' in mais_vendidos:\n",
    "    print(mais_vendidos['livros'])\n",
    "else:\n",
    "    print('Não há chave')"
   ]
  },
  {
   "cell_type": "code",
   "execution_count": null,
   "id": "ac3abf5b",
   "metadata": {},
   "outputs": [],
   "source": [
    "if mais_vendidos.get('livros') == None:\n",
    "    print('Não há')\n",
    "else:\n",
    "    print(mais_vendidos['livros'])"
   ]
  },
  {
   "cell_type": "markdown",
   "id": "bd8fbd4b",
   "metadata": {},
   "source": [
    "# Adicionar, Remover e Modificar Itens no Dicionário\n",
    "\n",
    "### Estrutura:\n",
    "\n",
    "- Adicionar itens:"
   ]
  },
  {
   "cell_type": "raw",
   "id": "74b1540f",
   "metadata": {},
   "source": [
    "dicionario = {}\n",
    "\n",
    "dicionario[chave] = valor\n",
    "\n",
    "outra opção:\n",
    "\n",
    "dicionario.update({chave: valor, chave: valor})"
   ]
  },
  {
   "cell_type": "code",
   "execution_count": null,
   "id": "aad08af7",
   "metadata": {},
   "outputs": [],
   "source": [
    "dicionario = {'a': 1, 'b': 2, 'c': 3}\n",
    "print(dicionario)\n",
    "\n",
    "dicionario['d'] = 4\n",
    "print(dicionario)\n",
    "\n",
    "dicionario.update({'e': 5, 'f': 6})\n",
    "print(dicionario)"
   ]
  },
  {
   "cell_type": "code",
   "execution_count": null,
   "id": "287c3e02",
   "metadata": {},
   "outputs": [],
   "source": [
    "lucro_1tri = {'janeiro': 100000, 'fevereiro': 120000, 'março': 90000}\n",
    "lucro_2tri = {'abril': 88000, 'maio': 89000, 'junho': 120000}\n",
    "\n",
    "#adicionando 1 item\n",
    "\n",
    "#adicionando vários itens ou um dicionário a outro\n",
    "\n",
    "#adicionando um item já existente (manualmente ou pelo update)"
   ]
  },
  {
   "cell_type": "markdown",
   "id": "a917f82f",
   "metadata": {},
   "source": [
    "- Modificar itens:\n",
    "\n",
    "Da mesma forma que adicionamos 1 valor, caso essa chave já exista o item é apenas modificado.\n",
    "\n",
    "dicionario[chave] = valor\n",
    "\n"
   ]
  },
  {
   "cell_type": "code",
   "execution_count": null,
   "id": "dbb61ec8",
   "metadata": {},
   "outputs": [],
   "source": [
    "dicionario['f'] = 99\n",
    "print(dicionario)"
   ]
  },
  {
   "cell_type": "code",
   "execution_count": null,
   "id": "af8e8bc1",
   "metadata": {},
   "outputs": [],
   "source": [
    "#Vamos modificar o lucro de fevereiro:\n",
    "#(Lembrando: caso o item não exista, ele vai criar o item no dicionário)\n",
    "\n",
    "lucro_fev = 85000"
   ]
  },
  {
   "cell_type": "markdown",
   "id": "1ea57f52",
   "metadata": {},
   "source": [
    "- Remover itens:\n",
    "\n",
    "del dicionario[chave]\n",
    "\n",
    "ou então\n",
    "\n",
    "valor = dicionario.pop(chave)\n",
    "\n",
    "mas cuidado com:\n",
    "\n",
    "del dicionario<br>    ->    que é diferente de dicionario.clear()"
   ]
  },
  {
   "cell_type": "code",
   "execution_count": null,
   "id": "62431828",
   "metadata": {},
   "outputs": [],
   "source": [
    "del dicionario['f']\n",
    "print(dicionario)\n",
    "\n",
    "numero = dicionario.pop('a')\n",
    "print(numero)\n",
    "print(dicionario)"
   ]
  },
  {
   "cell_type": "markdown",
   "id": "03769021",
   "metadata": {},
   "source": [
    "#removendo o mês de junho\n",
    "\n",
    "\n",
    "#obs: o del também funciona para listas, caso queira usar\n",
    "#del lista[i]\n",
    "funcionarios = ['João', 'Pedro', 'Maria', 'Ana', 'Paula']"
   ]
  },
  {
   "cell_type": "markdown",
   "id": "873896b8",
   "metadata": {},
   "source": [
    "# For nos Dicionarios\n",
    "\n",
    "### Estrutura:"
   ]
  },
  {
   "cell_type": "raw",
   "id": "34bd6c86",
   "metadata": {},
   "source": [
    "for chave in dicionario:\n",
    "    faça alguma coisa"
   ]
  },
  {
   "cell_type": "code",
   "execution_count": null,
   "id": "4926e9b2",
   "metadata": {},
   "outputs": [],
   "source": [
    "for chave in dicionario:\n",
    "    print(chave)"
   ]
  },
  {
   "cell_type": "code",
   "execution_count": null,
   "id": "e3b99bcd",
   "metadata": {},
   "outputs": [],
   "source": [
    "for chave in dicionario:\n",
    "    print(dicionario[chave])"
   ]
  },
  {
   "cell_type": "code",
   "execution_count": null,
   "id": "af55c4ad",
   "metadata": {},
   "outputs": [],
   "source": [
    "for chave in dicionario:\n",
    "    print(chave, dicionario[chave])"
   ]
  },
  {
   "cell_type": "code",
   "execution_count": null,
   "id": "02113e80",
   "metadata": {},
   "outputs": [],
   "source": [
    "vendas_tecnologia = {'iphone': 15000, 'samsung galaxy': 12000, 'tv samsung': 10000, 'ps5': 14300, 'tablet': 1720, 'ipad': 1000, 'tv philco': 2500, 'notebook hp': 1000, 'notebook dell': 17000, 'notebook asus': 2450}"
   ]
  },
  {
   "cell_type": "markdown",
   "id": "cc00c102",
   "metadata": {},
   "source": [
    "- Qual o total de notebooks vendidos?"
   ]
  },
  {
   "cell_type": "code",
   "execution_count": null,
   "id": "10329886",
   "metadata": {},
   "outputs": [],
   "source": []
  },
  {
   "cell_type": "markdown",
   "id": "21d0c5c2",
   "metadata": {},
   "source": [
    "# Métodos úteis em dicionários\n",
    "\n",
    "## items() dos dicionários\n",
    "\n",
    "### Estrutura:"
   ]
  },
  {
   "cell_type": "raw",
   "id": "87dae2e5",
   "metadata": {},
   "source": [
    "itens_dicionario = dicionario.items()\n",
    "\n",
    "ou então:\n",
    "\n",
    "for item in dicionario.items():\n",
    "    cada item do dicionario em formato de tupla"
   ]
  },
  {
   "cell_type": "code",
   "execution_count": null,
   "id": "a1c2009b",
   "metadata": {},
   "outputs": [],
   "source": [
    "itens_dicionario = dicionario.items()\n",
    "print(itens_dicionario)"
   ]
  },
  {
   "cell_type": "code",
   "execution_count": null,
   "id": "55535675",
   "metadata": {},
   "outputs": [],
   "source": [
    "for item in dicionario.items():\n",
    "    print(item)"
   ]
  },
  {
   "cell_type": "code",
   "execution_count": null,
   "id": "e3177279",
   "metadata": {},
   "outputs": [],
   "source": [
    "vendas_tecnologia = {'notebook asus': 2450, 'iphone': 15000, 'samsung galaxy': 12000, 'tv samsung': 10000, 'ps5': 14300, 'tablet': 1720, 'notebook dell': 17000, 'ipad': 1000, 'tv philco': 2500, 'notebook hp': 1000}"
   ]
  },
  {
   "cell_type": "markdown",
   "id": "3e2fb84c",
   "metadata": {},
   "source": [
    "- Quais produtos venderam mais de 5000 unidades?"
   ]
  },
  {
   "cell_type": "code",
   "execution_count": null,
   "id": "e741c401",
   "metadata": {},
   "outputs": [],
   "source": [
    "#forma 1 -> usando apenas o dicionario e as chaves\n"
   ]
  },
  {
   "cell_type": "code",
   "execution_count": null,
   "id": "c21a1d76",
   "metadata": {},
   "outputs": [],
   "source": [
    "#forma 2 -> usando o dicionario.items()\n"
   ]
  },
  {
   "cell_type": "markdown",
   "id": "59abf2b2",
   "metadata": {},
   "source": [
    "# Listas importantes a partir do Dicionário\n",
    "\n",
    "### Métodos importantes:\n",
    "\n",
    ".keys() -> uma \"lista\" com todas as chaves do dicionario\n",
    "\n",
    ".values() -> uma \"lista\" com todos os valores do dicionario\n",
    "\n",
    "Obs: Se o dicionario for modificado, automaticamente essas variáveis são modificadas, mesmo tendo sido criadas anteriormente"
   ]
  },
  {
   "cell_type": "code",
   "execution_count": null,
   "id": "fa5e4809",
   "metadata": {},
   "outputs": [],
   "source": [
    "chaves = dicionario.keys()\n",
    "valores = dicionario.values()\n",
    "print(chaves)\n",
    "print(valores)"
   ]
  },
  {
   "cell_type": "code",
   "execution_count": null,
   "id": "e2ab7eaf",
   "metadata": {},
   "outputs": [],
   "source": [
    "dicionario['b'] = 10\n",
    "print(chaves)\n",
    "print(valores)\n",
    "print(list(chaves))\n",
    "print(list(valores))"
   ]
  },
  {
   "cell_type": "markdown",
   "id": "96c8906a",
   "metadata": {},
   "source": [
    "### O for vai funcionar normal em dict_listas, porque não deixa de ser uma lista de itens que pode ser percorrida (iterable), mas o que aprendemos de lista não necessariamente se aplicam a essas dict_listas.\n",
    "\n",
    "Para transformar as dict_listas em listas normais, usamos a função list:\n",
    "\n",
    "- lista_chaves = list(dicionario.keys())"
   ]
  },
  {
   "cell_type": "markdown",
   "id": "01330830",
   "metadata": {},
   "source": [
    "- Pode ser útil caso a gente queira fazer alguma organização das chaves. Ex: Imprimir uma lista com os valores em ordem alfabética, de forma que todas as tvs fiquem juntas, todos os iphone/ipad também e assim vai:"
   ]
  },
  {
   "cell_type": "code",
   "execution_count": null,
   "id": "c22de985",
   "metadata": {},
   "outputs": [],
   "source": [
    "for chave in vendas_tecnologia:\n",
    "     print('{}: {} unidades'.format(chave, vendas_tecnologia[chave]))\n",
    "print('-' * 40)"
   ]
  },
  {
   "cell_type": "markdown",
   "id": "cf8b3ba7",
   "metadata": {},
   "source": [
    "# Transformando Listas em Dicionários e Function zip\n",
    "\n",
    "### Estrutura:\n",
    "\n",
    "- Dicionário com valores padrões:\n",
    "\n",
    "dicionario = dict.fromkeys(lista_chaves, valor_padrao)\n",
    "\n",
    "- Dicionário a partir de listas de tuplas:\n",
    "\n",
    "dicionario = dict(lista_tuplas)\n",
    "\n",
    "- Dicionário a partir de 2 listas:\n",
    "\n",
    "Passo 1: Transformar listas em lista de tuplas com o método zip<br>\n",
    "Passo 2: Transformar em dicionario\n",
    "\n",
    "lista_tuplas = zip(lista1, lista2)<br>\n",
    "dicionario = dict(lista_tuplas)"
   ]
  },
  {
   "cell_type": "code",
   "execution_count": null,
   "id": "8e3709c9",
   "metadata": {},
   "outputs": [],
   "source": [
    "letra = ['x', 'y', 'z']\n",
    "numero = [10, 20, 30]"
   ]
  },
  {
   "cell_type": "code",
   "execution_count": null,
   "id": "130d7bbb",
   "metadata": {},
   "outputs": [],
   "source": [
    "dicionario = dict.fromkeys(letra, 0)\n",
    "\n",
    "print(dicionario)"
   ]
  },
  {
   "cell_type": "code",
   "execution_count": null,
   "id": "2528a89b",
   "metadata": {},
   "outputs": [],
   "source": [
    "tupla = zip(letra, numero)\n",
    "dicionario = dict(tupla)\n",
    "\n",
    "print(dicionario)"
   ]
  },
  {
   "cell_type": "code",
   "execution_count": null,
   "id": "e66a6369",
   "metadata": {},
   "outputs": [],
   "source": [
    "produtos = ['iphone', 'samsung galaxy', 'tv samsung', 'ps5', 'tablet', 'ipad', 'tv philco', 'notebook hp', 'notebook dell', 'notebook asus']\n",
    "vendas = [15000, 12000, 10000, 14300, 1720, 1000, 2500, 1000, 17000, 2450]"
   ]
  },
  {
   "cell_type": "markdown",
   "id": "fa0c5ffa",
   "metadata": {},
   "source": [
    "- Quanto vendemos de ipad?"
   ]
  },
  {
   "cell_type": "code",
   "execution_count": null,
   "id": "4fde6600",
   "metadata": {},
   "outputs": [],
   "source": [
    "#fazendo por listas\n"
   ]
  },
  {
   "cell_type": "code",
   "execution_count": null,
   "id": "9bf78db1",
   "metadata": {},
   "outputs": [],
   "source": [
    "#fazendo por dicionario\n"
   ]
  }
 ],
 "metadata": {
  "kernelspec": {
   "display_name": "Python 3",
   "language": "python",
   "name": "python3"
  },
  "language_info": {
   "codemirror_mode": {
    "name": "ipython",
    "version": 3
   },
   "file_extension": ".py",
   "mimetype": "text/x-python",
   "name": "python",
   "nbconvert_exporter": "python",
   "pygments_lexer": "ipython3",
   "version": "3.13.2"
  }
 },
 "nbformat": 4,
 "nbformat_minor": 5
}
