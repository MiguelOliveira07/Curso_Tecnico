{
 "cells": [
  {
   "cell_type": "markdown",
   "metadata": {},
   "source": [
    "# Exercícios - Strings\n",
    "\n",
    "## 1. Cadastro de CPF\n",
    "\n",
    "Crie um programa para cadastro de CPF de clientes que recebe o CPF em um input box apenas com números.\n",
    "\n",
    "Ex: 'Insira seu CPF (digite apenas números)'\n",
    "\n",
    "Caso o usuário digite algo diferente de números ou digite menos de 11 caracteres (tamanho do CPF brasileiro), o programa deve exibir uma mensagem de \"Digite seu CPF corretamente e digite apenas números\""
   ]
  },
  {
   "cell_type": "code",
   "execution_count": null,
   "metadata": {},
   "outputs": [
    {
     "name": "stdout",
     "output_type": "stream",
     "text": [
      "CPF válido.\n"
     ]
    }
   ],
   "source": [
    "# seu código aqui\n",
    "\n",
    "num = 0\n",
    "\n",
    "while True:\n",
    "    cpf = input('Digite seu cpf, apenas números: ')\n",
    "    num = len(cpf)\n",
    "    if num == 11 and cpf.isnumeric() :\n",
    "        print('CPF válido.')\n",
    "        False\n",
    "    else:\n",
    "        print('Cpf INVÁLIDO, digite um cpf válido!')\n",
    "        True"
   ]
  },
  {
   "cell_type": "markdown",
   "metadata": {},
   "source": [
    "## 2. Melhorando nosso Cadastro de CPF\n",
    "\n",
    "Agora, além das validações anteriores, crie um input que permita que o usuário insira pontos, traços e inclusive espaços vazios.\n",
    "\n",
    "O programa deve \"tratar\" o que o usuário inserir para padronizar o CPF dele em apenas números.\n",
    "\n",
    "A verificação de tamanho do CPF com 11 caracteres continua válida, mas ela só deve ser feita depois de retirar todos os pontos, traços e espaços do CPF que o cliente inserir e, uma vez retirados pontos, traços e espaços, devem sobrar apenas números no CPF. Qualquer outro caractere deve ser considerado inválido.\n",
    "\n",
    "No final, o programa deve exibir uma mensagem para o usuário, caso ele tenha inserido o CPF inválido ou então apenas deve printar o CPF correto já só com número."
   ]
  },
  {
   "cell_type": "code",
   "execution_count": null,
   "metadata": {},
   "outputs": [],
   "source": [
    "# seu código aqui\n",
    "\n",
    "while True:\n",
    "    cpf = input('Digite seu CPF (pode usar pontos, traços ou espaços): ')\n",
    "    \n",
    "    cpf_tratado = cpf.replace('.', '').replace('-', '').replace(' ', '')\n",
    "\n",
    "    if len(cpf_tratado) == 11 and cpf_tratado.isnumeric():\n",
    "        print(f'CPF válido: {cpf_tratado}')\n",
    "        break \n",
    "    else:\n",
    "        print('CPF INVÁLIDO, digite um CPF válido!')\n"
   ]
  },
  {
   "cell_type": "markdown",
   "metadata": {},
   "source": [
    "## 3. Cadastro de e-mails\n",
    "\n",
    "- A empresa Python sempre se comunica com seus clientes por e-mail. Para isso, eles têm em cada página um cadastro de nome e e-mail. Nesse cadastro, o sistema verifica se o e-mail que a pessoa inseriu é um e-mail válido, verificando se ele tem '@' e se depois do '@' tem algum ponto, afinal:\n",
    "\n",
    "- senac.email.com -> NÃO é um e-mail válido\n",
    "- senac@email -> NÃO é um e-mail válido\n",
    "- senac@email.com -> é um e-mail válido\n",
    "\n",
    "Crie um programa que permita o cadastro de nome e e-mail de uma pessoa (por meio de inputs) e que verifique:\n",
    "1. Se nome e e-mail foram preenchidos, caso contrário ele deve avisar para preencher todos os dados corretamente\n",
    "2. Se o e-mail contém '@' e se depois do '@' existe algum '.', caso contrário ele deve exibir uma mensagem de e-mail inválido\n"
   ]
  },
  {
   "cell_type": "code",
   "execution_count": null,
   "metadata": {},
   "outputs": [],
   "source": [
    "while True:\n",
    "    nome = input('Digite seu nome: ').strip()\n",
    "    email = input('Digite seu e-mail: ').strip()\n",
    "\n",
    "    if not nome or not email:\n",
    "        print('Por favor, preencha todos os dados corretamente.')\n",
    "        continue \n",
    "   \n",
    "    if '@' in email:\n",
    "        parte_apos_arroba = email.split('@')[1]\n",
    "        if '.' in parte_apos_arroba:\n",
    "            print('Cadastro realizado com sucesso!')\n",
    "            break  \n",
    "        else:\n",
    "            print('E-mail inválido: deve haver um ponto após o \"@\".')\n",
    "    else:\n",
    "        print('E-mail inválido: deve conter \"@\".')"
   ]
  }
 ],
 "metadata": {
  "kernelspec": {
   "display_name": "Python 3",
   "language": "python",
   "name": "python3"
  },
  "language_info": {
   "codemirror_mode": {
    "name": "ipython",
    "version": 3
   },
   "file_extension": ".py",
   "mimetype": "text/x-python",
   "name": "python",
   "nbconvert_exporter": "python",
   "pygments_lexer": "ipython3",
   "version": "3.13.2"
  }
 },
 "nbformat": 4,
 "nbformat_minor": 4
}
