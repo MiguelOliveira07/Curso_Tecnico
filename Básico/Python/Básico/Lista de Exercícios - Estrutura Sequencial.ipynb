{
 "cells": [
  {
   "cell_type": "markdown",
   "id": "55771c0e",
   "metadata": {},
   "source": [
    "# Lista de Exercícios - Estrutura Sequencial"
   ]
  },
  {
   "cell_type": "markdown",
   "id": "b3994100",
   "metadata": {},
   "source": [
    "#### 1 - Faça um Programa que mostre a mensagem \"Alô Mundo!\" na tela."
   ]
  },
  {
   "cell_type": "code",
   "execution_count": 3,
   "id": "22d1b9b4",
   "metadata": {},
   "outputs": [
    {
     "name": "stdout",
     "output_type": "stream",
     "text": [
      "Hello World\n"
     ]
    }
   ],
   "source": [
    "print(\"Hello World\")"
   ]
  },
  {
   "cell_type": "markdown",
   "id": "da0720cc",
   "metadata": {},
   "source": [
    "#### 2 - Faça um Programa que peça um número e então mostre a mensagem: O número informado foi [número]."
   ]
  },
  {
   "cell_type": "code",
   "execution_count": 2,
   "id": "62181e6d",
   "metadata": {},
   "outputs": [
    {
     "name": "stdin",
     "output_type": "stream",
     "text": [
      "Escolha um número:  23\n"
     ]
    },
    {
     "name": "stdout",
     "output_type": "stream",
     "text": [
      "O número escollhido foi: 23.\n"
     ]
    }
   ],
   "source": [
    "num = int(input(\"Escolha um número: \"))\n",
    "print(f\"O número escollhido foi: {num}.\")"
   ]
  },
  {
   "cell_type": "markdown",
   "id": "ab822599",
   "metadata": {},
   "source": [
    "#### 3 - Faça um Programa que peça dois números e imprima a soma."
   ]
  },
  {
   "cell_type": "code",
   "execution_count": 6,
   "id": "e00ac1bb",
   "metadata": {},
   "outputs": [
    {
     "name": "stdin",
     "output_type": "stream",
     "text": [
      "Esocolha um número:  45\n",
      "Esocolha um outro número:  5\n"
     ]
    },
    {
     "name": "stdout",
     "output_type": "stream",
     "text": [
      "A soma desses números é igual a: 50\n"
     ]
    }
   ],
   "source": [
    "num1 = int(input(\"Esocolha um número: \"))\n",
    "num2 = int(input(\"Esocolha um outro número: \"))\n",
    "\n",
    "soma = num1 + num2\n",
    "\n",
    "print(f\"A soma desses números é igual a: {soma}\")"
   ]
  },
  {
   "cell_type": "markdown",
   "id": "f6ef2960",
   "metadata": {},
   "source": [
    "#### 4 - Faça um Programa que peça as 4 notas bimestrais e mostre a média."
   ]
  },
  {
   "cell_type": "code",
   "execution_count": 7,
   "id": "78517d5c",
   "metadata": {},
   "outputs": [
    {
     "name": "stdin",
     "output_type": "stream",
     "text": [
      "Esocolha a 1º notea:  10\n",
      "Esocolha a 2º nota:  10\n",
      "Esocolha a 3º nota:  10\n",
      "Esocolha a 4º nota:  2\n"
     ]
    },
    {
     "name": "stdout",
     "output_type": "stream",
     "text": [
      "A media desses números é igual a: 8.0\n"
     ]
    }
   ],
   "source": [
    "num1 = int(input(\"Esocolha a 1º notea: \"))\n",
    "num2 = int(input(\"Esocolha a 2º nota: \"))\n",
    "num3 = int(input(\"Esocolha a 3º nota: \"))\n",
    "num4 = int(input(\"Esocolha a 4º nota: \"))\n",
    "\n",
    "media = (num1 + num2 + num3 + num4) / 4\n",
    "\n",
    "print(f\"A media desses números é igual a: {media}\")"
   ]
  },
  {
   "cell_type": "markdown",
   "id": "ac45bffd",
   "metadata": {},
   "source": [
    "#### 5 - Faça um Programa que converta metros para centímetros."
   ]
  },
  {
   "cell_type": "code",
   "execution_count": 10,
   "id": "0fbd07bf",
   "metadata": {},
   "outputs": [
    {
     "name": "stdin",
     "output_type": "stream",
     "text": [
      "Quantos metros tem a parede?  1\n"
     ]
    },
    {
     "name": "stdout",
     "output_type": "stream",
     "text": [
      "Essa parde tem 100 centímetros.\n"
     ]
    }
   ],
   "source": [
    "metro = float(input(\"Quantos metros tem a parede? \"))\n",
    "\n",
    "cm = metro *100\n",
    "\n",
    "print(f\"Essa parde tem {cm} centímetros.\")\n"
   ]
  },
  {
   "cell_type": "markdown",
   "id": "7c9e7584",
   "metadata": {},
   "source": [
    "#### 6 - Faça um Programa que peça o raio de um círculo, calcule e mostre sua área."
   ]
  },
  {
   "cell_type": "code",
   "execution_count": 12,
   "id": "5a0fa52d",
   "metadata": {},
   "outputs": [
    {
     "name": "stdin",
     "output_type": "stream",
     "text": [
      "Informe o raio:  3\n"
     ]
    },
    {
     "name": "stdout",
     "output_type": "stream",
     "text": [
      "A area do criculo é 28.26\n"
     ]
    }
   ],
   "source": [
    "raio = float(input(\"Informe o raio: \"))\n",
    "area  = 3.14 * (raio ** 2)\n",
    "\n",
    "print(f\"A area do criculo é {area}\")"
   ]
  },
  {
   "cell_type": "markdown",
   "id": "fac627c9",
   "metadata": {},
   "source": [
    "#### 7 - Faça um Programa que calcule a área de um quadrado, em seguida mostre o dobro desta área para o usuário."
   ]
  },
  {
   "cell_type": "code",
   "execution_count": 14,
   "id": "269ec3b1",
   "metadata": {},
   "outputs": [
    {
     "name": "stdin",
     "output_type": "stream",
     "text": [
      "Informe o lado do quadrado:  2\n"
     ]
    },
    {
     "name": "stdout",
     "output_type": "stream",
     "text": [
      "O dobro da area é igual a 8.0\n"
     ]
    }
   ],
   "source": [
    "lado = float(input(\"Informe o lado do quadrado: \"))\n",
    "area = lado ** 2\n",
    "a2 = area *2\n",
    "\n",
    "print(f\"O dobro da area é igual a {a2}\")"
   ]
  },
  {
   "cell_type": "markdown",
   "id": "a669e8f5",
   "metadata": {},
   "source": [
    "#### 8 - Faça um Programa que pergunte quanto você ganha por hora e o número de horas trabalhadas no mês.<br><br>Calcule e mostre o total do seu salário no referido mês."
   ]
  },
  {
   "cell_type": "code",
   "execution_count": 16,
   "id": "240d1f95",
   "metadata": {},
   "outputs": [
    {
     "name": "stdin",
     "output_type": "stream",
     "text": [
      "Quanto você ganha por hora?  10\n",
      "Quantas horas por dia você trabalha?  10\n"
     ]
    },
    {
     "name": "stdout",
     "output_type": "stream",
     "text": [
      "Logo, você recebe apenas R$100.0 por mês...\n"
     ]
    }
   ],
   "source": [
    "hora = float(input(\"Quanto você ganha por hora? \"))\n",
    "dias = int(input(\"Quantas horas por dia você trabalha? \"))\n",
    "\n",
    "salario = hora * dias\n",
    "\n",
    "print(f\"Logo, você recebe apenas R${salario} por mês...\")"
   ]
  },
  {
   "cell_type": "markdown",
   "id": "738dbefa",
   "metadata": {},
   "source": [
    "#### 9 - Faça um Programa que peça a temperatura em graus Fahrenheit, transforme e mostre a temperatura em graus Celsius.<br><br>Fórmula: C = 5 * ((F - 32) / 9)."
   ]
  },
  {
   "cell_type": "code",
   "execution_count": 19,
   "id": "f5baa3d7",
   "metadata": {},
   "outputs": [
    {
     "name": "stdin",
     "output_type": "stream",
     "text": [
      "Informe a temperatura em Fahrenheit:  50\n"
     ]
    },
    {
     "name": "stdout",
     "output_type": "stream",
     "text": [
      "A temperatura em celsius é de 10.00C°\n"
     ]
    }
   ],
   "source": [
    "temp = float(input(\"Informe a temperatura em Fahrenheit: \"))\n",
    "\n",
    "cel = 5 * ((temp - 32) / 9)\n",
    "\n",
    "print(f\"A temperatura em celsius é de {cel:.2f}°C\")"
   ]
  },
  {
   "cell_type": "markdown",
   "id": "ed33286e",
   "metadata": {},
   "source": [
    "#### 10 - Faça um Programa que peça a temperatura em graus Celsius, transforme e mostre em graus Fahrenheit.<br><br>Fórmula: F = ((C * 9) / 5) + 32."
   ]
  },
  {
   "cell_type": "code",
   "execution_count": 20,
   "id": "8763f16b",
   "metadata": {},
   "outputs": [
    {
     "name": "stdin",
     "output_type": "stream",
     "text": [
      "Informe a temperatura em Celsius:  10\n"
     ]
    },
    {
     "name": "stdout",
     "output_type": "stream",
     "text": [
      "A temperatura em fahrenheit é de 50.00C°\n"
     ]
    }
   ],
   "source": [
    "temp = float(input(\"Informe a temperatura em Celsius: \"))\n",
    "\n",
    "fah = ((temp * 9) / 5) + 32\n",
    "\n",
    "print(f\"A temperatura em fahrenheit é de {fah:.2f}°F\")"
   ]
  },
  {
   "cell_type": "markdown",
   "id": "032f0504",
   "metadata": {},
   "source": [
    "#### 11 - Faça um Programa que peça 2 números inteiros e um número real. Calcule e mostre:<br><br>a. o produto do dobro do primeiro com metade do segundo.<br>b. a soma do triplo do primeiro com o terceiro.<br>c. o terceiro elevado ao cubo."
   ]
  },
  {
   "cell_type": "code",
   "execution_count": 24,
   "id": "d988a85a",
   "metadata": {},
   "outputs": [
    {
     "name": "stdin",
     "output_type": "stream",
     "text": [
      "Informe um número inteiro:  2\n",
      "Informe op segundo número inteiro:  2\n",
      "Informe um número real:  2.5\n"
     ]
    },
    {
     "name": "stdout",
     "output_type": "stream",
     "text": [
      " A= 5.25,\n",
      " B= 8.5,\n",
      " C= 15.625\n"
     ]
    }
   ],
   "source": [
    "inteiro1 = int(input(\"Informe um número inteiro: \"))\n",
    "inteiro2 = int(input(\"Informe op segundo número inteiro: \"))\n",
    "real = float(input(\"Informe um número real: \"))\n",
    "a = (inteiro1 * 2) + (real / 2)\n",
    "b = (inteiro1 * 3) + real\n",
    "c = real ** 3\n",
    "\n",
    "print(f\" A= {a},\\n B= {b},\\n C= {c}\")\n"
   ]
  },
  {
   "cell_type": "markdown",
   "id": "175ed914",
   "metadata": {},
   "source": [
    "12 - Tendo como dados de entrada a altura de uma pessoa, construa um algoritmo que calcule seu peso ideal.<br><br>Fórmula: Peso Ideal = (72.7 * altura) - 58\n"
   ]
  },
  {
   "cell_type": "code",
   "execution_count": 26,
   "id": "85b825d4-1900-4242-8e2a-4e24046dfa46",
   "metadata": {},
   "outputs": [
    {
     "name": "stdin",
     "output_type": "stream",
     "text": [
      "Qual sua altura:  1.71\n"
     ]
    },
    {
     "name": "stdout",
     "output_type": "stream",
     "text": [
      "Seu peso ideial seria: 65.462\n"
     ]
    }
   ],
   "source": [
    "alt = float(input(\"Qual sua altura: \"))\n",
    "cmd = (72.2 * alt - 58)\n",
    "\n",
    "print(f\"Seu peso ideial seria: {cmd}\")\n"
   ]
  },
  {
   "cell_type": "markdown",
   "id": "e41ccfab",
   "metadata": {},
   "source": [
    "#### 13 - Tendo como dado de entrada a altura (h) de uma pessoa, construa um algoritmo que calcule seu peso ideal. <br><br>Fórmulas:<br><br>Para homens: Peso Ideal = (72.7 * h) - 58<br>Para mulheres: Peso Ideal = (62.1 * h) - 44.7"
   ]
  },
  {
   "cell_type": "code",
   "execution_count": 34,
   "id": "ce4cde58-886e-4594-9185-86157bedf905",
   "metadata": {},
   "outputs": [
    {
     "name": "stdin",
     "output_type": "stream",
     "text": [
      "Qual sua altura:  1.70\n",
      "Você é homem? sim\n"
     ]
    },
    {
     "name": "stdout",
     "output_type": "stream",
     "text": [
      "Seu peso ideial seria: 65.462\n"
     ]
    }
   ],
   "source": [
    "alt = float(input(\"Qual sua altura: \"))\n",
    "sexo = input(\"Você é homem?\")\n",
    "if sexo == 'sim':\n",
    "    cmd == (72.7*alt)-58\n",
    "\n",
    "else:\n",
    "    cmd == (62.1 * alt) - 44.7\n",
    "\n",
    "\n",
    "print(f\"Seu peso ideial seria: {cmd}\")\n"
   ]
  },
  {
   "cell_type": "markdown",
   "id": "6427cf53",
   "metadata": {},
   "source": [
    "#### 14 - Faça um Programa que pergunte quanto você ganha por hora e o número de horas trabalhadas no mês.<br><br>Calcule e mostre o total do seu salário no referido mês, sabendo-se que são descontados 11% para o Imposto de Renda, 8% para o INSS e 5% para o sindicato, faça um programa que nos dê:<br><br>a. o salário bruto.<br>b. quanto pagou ao INSS.<br>c. quanto pagou ao sindicato.<br>d. o salário líquido.<br><br>Calcule os descontos e o salário líquido, conforme a tabela abaixo:<br>+ Salário Bruto<br>-    IR (11%)<br>-   INSS (8%)<br>-  Sindicato ( 5%)<br>= Salário Liquido<br><br>Obs.: Salário Bruto - Descontos = Salário Líquido."
   ]
  },
  {
   "cell_type": "code",
   "execution_count": 39,
   "id": "bf4da4fe-37b9-49a6-aea7-3afa1206e9d8",
   "metadata": {},
   "outputs": [
    {
     "name": "stdin",
     "output_type": "stream",
     "text": [
      "Quanto você ganha por hora?  20\n",
      "Quantas horas por dia você trabalha?  30\n"
     ]
    },
    {
     "name": "stdout",
     "output_type": "stream",
     "text": [
      "Logo, você recebe apenas R$456.0 por mês... \n",
      "São R$144.0 de impostos\n"
     ]
    }
   ],
   "source": [
    "hora = float(input(\"Quanto você ganha por hora? \"))\n",
    "dias = int(input(\"Quantas horas por dia você trabalha? \"))\n",
    "\n",
    "bruto = hora * dias\n",
    "i_r = 0.11 *bruto\n",
    "inss = 0.08 * bruto\n",
    "sin = 0.05 * bruto\n",
    "\n",
    "impostos = ir + inss + sin\n",
    "\n",
    "salario = (hora * dias) - impostos\n",
    "\n",
    "print(f\"Logo, você recebe apenas R${salario} por mês... \\nSão R${impostos} de impostos\")"
   ]
  },
  {
   "cell_type": "markdown",
   "id": "e2e24710",
   "metadata": {},
   "source": [
    "#### 15 - Faça um programa que peça o tamanho de um arquivo para download (em MB) e a velocidade de um link de Internet (em Mbps).<br><br>Calcule e informe o tempo aproximado de download do arquivo usando este link (em minutos).\n",
    "###### Obs.: MB significa megabyte, Mbps (com b minúsculo) significa megabits por segundo. Um megabit é um oitavo de um megabyte.\n"
   ]
  },
  {
   "cell_type": "code",
   "execution_count": 41,
   "id": "ff33db1b",
   "metadata": {},
   "outputs": [
    {
     "name": "stdin",
     "output_type": "stream",
     "text": [
      "Tamnho do arquivo(Mb):  100\n",
      "Velocidae do arquivo(Mbps):  500\n"
     ]
    },
    {
     "name": "stdout",
     "output_type": "stream",
     "text": [
      "velocidade de downloand: 50000.0\n"
     ]
    }
   ],
   "source": [
    "tam = float(input(\"Tamnho do arquivo(Mb): \"))\n",
    "vel = float(input(\"Velocidae do arquivo(Mbps): \"))\n",
    "\n",
    "temp = vel * tam\n",
    "\n",
    "print(f\"velocidade de downloand: {temp}\")\n"
   ]
  }
 ],
 "metadata": {
  "kernelspec": {
   "display_name": "Python 3 (ipykernel)",
   "language": "python",
   "name": "python3"
  },
  "language_info": {
   "codemirror_mode": {
    "name": "ipython",
    "version": 3
   },
   "file_extension": ".py",
   "mimetype": "text/x-python",
   "name": "python",
   "nbconvert_exporter": "python",
   "pygments_lexer": "ipython3",
   "version": "3.12.7"
  }
 },
 "nbformat": 4,
 "nbformat_minor": 5
}
