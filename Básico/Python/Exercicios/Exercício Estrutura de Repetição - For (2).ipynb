{
 "cells": [
  {
   "cell_type": "markdown",
   "metadata": {},
   "source": [
    "# Estrutura de Repetição - For\n",
    "\n",
    "### Funcionamento:"
   ]
  },
  {
   "cell_type": "raw",
   "metadata": {},
   "source": [
    "for i in range(n):\n",
    "    repetir código n vezes"
   ]
  },
  {
   "cell_type": "code",
   "execution_count": 3,
   "metadata": {},
   "outputs": [
    {
     "name": "stdout",
     "output_type": "stream",
     "text": [
      "1\n",
      "2\n",
      "3\n",
      "4\n",
      "5\n",
      "6\n",
      "7\n",
      "8\n",
      "9\n"
     ]
    }
   ],
   "source": [
    "# Imprimir os números de 0 a 9\n",
    "for i in range(1, 10):\n",
    "    print(i)\n",
    "    \n",
    "    \n"
   ]
  },
  {
   "cell_type": "code",
   "execution_count": 4,
   "metadata": {},
   "outputs": [
    {
     "name": "stdout",
     "output_type": "stream",
     "text": [
      "['a', 'e', 'i', 'o', 'u']\n",
      "a\n",
      "e\n",
      "i\n",
      "o\n",
      "u\n"
     ]
    }
   ],
   "source": [
    "# Imprimir os itens da lista abaixo\n",
    "vogais = ['a', 'e', 'i', 'o' , 'u']\n",
    "print(vogais)\n",
    "\n",
    "for i in vogais:\n",
    "    print(i)\n",
    "    \n"
   ]
  },
  {
   "cell_type": "markdown",
   "metadata": {},
   "source": [
    "### Exercício:"
   ]
  },
  {
   "cell_type": "markdown",
   "metadata": {},
   "source": [
    "- Imagine que você está construindo uma automação para enviar todo dia por e-mail um resumo da produção de uma fábrica. Construa um código que exiba a quantidade produzida de cada os produto nesse \"e-mail\""
   ]
  },
  {
   "cell_type": "code",
   "execution_count": 1,
   "metadata": {},
   "outputs": [
    {
     "name": "stdout",
     "output_type": "stream",
     "text": [
      "coca - 15000\n",
      "pepsi - 12000\n",
      "guarana - 13000\n",
      "sprite - 5000\n",
      "fanta - 250\n"
     ]
    }
   ],
   "source": [
    "produtos = ['coca', 'pepsi', 'guarana', 'sprite', 'fanta']\n",
    "producao = [15000, 12000, 13000, 5000, 250]\n",
    "\n",
    "for indice, produto in enumerate(produtos):\n",
    "    print(f'{produto} - {producao[indice]}')"
   ]
  },
  {
   "cell_type": "markdown",
   "metadata": {},
   "source": [
    "# For \"each\"\n",
    "\n",
    "### Estrutura:\n",
    "\n",
    "O for no Python consegue percorrer uma lista e a cada \"loop\" retornar o valor do item."
   ]
  },
  {
   "cell_type": "raw",
   "metadata": {},
   "source": [
    "for i in range(5):\n",
    "    print(i)\n",
    "    \n",
    "range(5) é na verdade uma lista do tipo: [0, 1, 2, 3, 4]"
   ]
  },
  {
   "cell_type": "markdown",
   "metadata": {},
   "source": [
    "### Usando para listas:"
   ]
  },
  {
   "cell_type": "raw",
   "metadata": {},
   "source": [
    "for item in lista:\n",
    "    print(item)\n",
    "    \n",
    "ou então para string:\n",
    "\n",
    "for ch in texto:\n",
    "    print(ch)"
   ]
  },
  {
   "cell_type": "code",
   "execution_count": 2,
   "metadata": {},
   "outputs": [
    {
     "name": "stdout",
     "output_type": "stream",
     "text": [
      "a\n",
      "e\n",
      "i\n",
      "o\n",
      "u\n"
     ]
    }
   ],
   "source": [
    "# Imprimir os itens da lista abaixo\n",
    "vogais = ['a', 'e', 'i', 'o' , 'u']\n",
    "\n",
    "for itens in vogais:\n",
    "    print(itens)"
   ]
  },
  {
   "cell_type": "code",
   "execution_count": 5,
   "metadata": {},
   "outputs": [
    {
     "name": "stdout",
     "output_type": "stream",
     "text": [
      "s\n",
      "e\n",
      "n\n",
      "a\n",
      "c\n"
     ]
    }
   ],
   "source": [
    "# Imprimir os caracteres (letras) da string abaixo\n",
    "string = 'senac'\n",
    "for itens in string:\n",
    "    print(itens)\n",
    "\n"
   ]
  },
  {
   "cell_type": "markdown",
   "metadata": {},
   "source": [
    "### Exercício:"
   ]
  },
  {
   "cell_type": "markdown",
   "metadata": {},
   "source": [
    "- Imprima os itens da lista e da string abaixo:\n",
    "- (Na primeira célula use \"for in range\" e na segunda, use \"for each\")"
   ]
  },
  {
   "cell_type": "code",
   "execution_count": 14,
   "metadata": {},
   "outputs": [
    {
     "name": "stdout",
     "output_type": "stream",
     "text": [
      "coca\n",
      "pepsi\n",
      "guarana\n",
      "sprite\n",
      "fanta\n",
      "senac@email.com"
     ]
    }
   ],
   "source": [
    "# for in range\n",
    "produtos = ['coca', 'pepsi', 'guarana', 'sprite', 'fanta']\n",
    "email = 'senac@email.com'\n",
    "\n",
    "for p in range(len(produtos)):\n",
    "    print(produtos[p])\n",
    "\n",
    "for e in range(len(email)):\n",
    "    print(email[e],end = '')"
   ]
  },
  {
   "cell_type": "code",
   "execution_count": 17,
   "metadata": {},
   "outputs": [
    {
     "name": "stdout",
     "output_type": "stream",
     "text": [
      "coca\n",
      "pepsi\n",
      "guarana\n",
      "sprite\n",
      "fanta\n",
      "senac@email.com"
     ]
    }
   ],
   "source": [
    "# for each\n",
    "produtos = ['coca', 'pepsi', 'guarana', 'sprite', 'fanta']\n",
    "email = 'senac@email.com'\n",
    "\n",
    "for produto in produtos:\n",
    "    print(produto)\n",
    "\n",
    "for emails in email:\n",
    "    print(emails,end = '')"
   ]
  },
  {
   "cell_type": "markdown",
   "metadata": {},
   "source": [
    "# For + If\n",
    "\n",
    "### Estrutura:"
   ]
  },
  {
   "cell_type": "raw",
   "metadata": {},
   "source": [
    "for item in lista:\n",
    "    if condicao:\n",
    "        faça alguma coisa\n",
    "    else:\n",
    "        outra coisa"
   ]
  },
  {
   "cell_type": "code",
   "execution_count": 20,
   "metadata": {},
   "outputs": [
    {
     "name": "stdout",
     "output_type": "stream",
     "text": [
      "0\n",
      "2\n",
      "4\n",
      "6\n",
      "8\n"
     ]
    }
   ],
   "source": [
    "# imprimir os números pares da lista abaixo\n",
    "numeros = [0, 1, 2, 3, 4, 5, 6, 7, 8, 9]\n",
    "\n",
    "for numero in numeros:\n",
    "    if numero % 2 == 0:\n",
    "        print(numero)\n",
    "        "
   ]
  },
  {
   "cell_type": "code",
   "execution_count": 21,
   "metadata": {},
   "outputs": [
    {
     "name": "stdout",
     "output_type": "stream",
     "text": [
      "5\n",
      "6\n",
      "7\n",
      "8\n",
      "9\n"
     ]
    }
   ],
   "source": [
    "# imprimir os números maiores que 4 da lista abaixo\n",
    "numeros = [0, 1, 2, 3, 4, 5, 6, 7, 8, 9]\n",
    "\n",
    "for numero in numeros:\n",
    "    if numero > 4:\n",
    "        print(numero)\n",
    "\n"
   ]
  },
  {
   "cell_type": "markdown",
   "metadata": {},
   "source": [
    "### Exercício:"
   ]
  },
  {
   "cell_type": "markdown",
   "metadata": {},
   "source": [
    "- Suponha que você esteja analisando a meta de vendas de vários funcionários de uma empresa e lhe é apresentada a seguinte situação: A meta de vendas é de 1000 reais em 1 dia. Dada uma lista com as vendas de todos os funcionários, calcule qual o % de pessoas que bateram a meta.\n",
    "- (Na primeira célula use \"for in range\" e na segunda, use \"for each\")"
   ]
  },
  {
   "cell_type": "code",
   "execution_count": 48,
   "metadata": {},
   "outputs": [
    {
     "name": "stdout",
     "output_type": "stream",
     "text": [
      "A porcentagem de pessoas que bateram a meta é de 26.08695652173913.\n"
     ]
    }
   ],
   "source": [
    "# for in range\n",
    "vendas = [1200, 300, 800, 1500, 1900, 2750, 400, 20, 23, 70, 90, 80, 1100, 999, 900, 880, 870, 50, 1111, 120, 300, 450, 800]\n",
    "meta = 1000\n",
    "meta_alcancada = 0\n",
    "\n",
    "for venda in range(len(vendas)):\n",
    "    if vendas[venda] >= meta:\n",
    "        meta_alcancada += 1\n",
    "        porcentagem = (meta_alcancada * 100) / len(vendas)\n",
    "\n",
    "print(f'A porcentagem de pessoas que bateram a meta é de {porcentagem}.')\n"
   ]
  },
  {
   "cell_type": "code",
   "execution_count": 49,
   "metadata": {},
   "outputs": [
    {
     "name": "stdout",
     "output_type": "stream",
     "text": [
      "a porcentagem de pessoas que bateram a meta é de 26.08695652173913.\n"
     ]
    }
   ],
   "source": [
    "# for each\n",
    "vendas = [1200, 300, 800, 1500, 1900, 2750, 400, 20, 23, 70, 90, 80, 1100, 999, 900, 880, 870, 50, 1111, 120, 300, 450, 800]\n",
    "meta = 1000\n",
    "meta_alcancada = 0\n",
    "\n",
    "for venda in vendas:\n",
    "    if venda >= meta:\n",
    "        meta_alcancada += 1\n",
    "        porcentagem = (meta_alcancada * 100) / len(vendas)\n",
    "\n",
    "print(f'a porcentagem de pessoas que bateram a meta é de {porcentagem}.')"
   ]
  },
  {
   "cell_type": "markdown",
   "metadata": {},
   "source": [
    "# Enumerate\n",
    "\n",
    "### Estrutura:\n",
    "\n",
    "O enumerate permite que você percorra uma lista e ao mesmo tempo tenha em uma variável o índice daquele item.\n",
    "\n",
    "- For visto anteriormente:"
   ]
  },
  {
   "cell_type": "raw",
   "metadata": {},
   "source": [
    "for i in range(lista):\n",
    "    resto do código"
   ]
  },
  {
   "cell_type": "raw",
   "metadata": {},
   "source": [
    "for item in lista:\n",
    "    resto do código"
   ]
  },
  {
   "cell_type": "markdown",
   "metadata": {},
   "source": [
    "- For com enumerate:"
   ]
  },
  {
   "cell_type": "raw",
   "metadata": {},
   "source": [
    "for i, item in enumerate(lista):\n",
    "    resto do código"
   ]
  },
  {
   "cell_type": "code",
   "execution_count": 54,
   "metadata": {},
   "outputs": [
    {
     "name": "stdout",
     "output_type": "stream",
     "text": [
      "Maria\n",
      "José\n",
      "Antônio\n",
      "João\n",
      "Francisco\n",
      "Ana\n",
      "Luiz\n",
      "Paulo\n",
      "Carlos\n",
      "Manoel\n",
      "Pedro\n",
      "Francisca\n",
      "Marcos\n",
      "Raimundo\n",
      "Sebastião\n",
      "Antônia\n",
      "Marcelo\n",
      "Jorge\n",
      "Márcia\n",
      "Geraldo\n",
      "Adriana\n",
      "Sandra\n",
      "Luis\n"
     ]
    }
   ],
   "source": [
    "# atribuir e imprimir um ID para cada funcionário da lista abaixo \n",
    "funcionarios = ['Maria', 'José', 'Antônio', 'João', 'Francisco', 'Ana', 'Luiz', 'Paulo', 'Carlos', 'Manoel', 'Pedro', 'Francisca', 'Marcos', 'Raimundo', 'Sebastião', 'Antônia', 'Marcelo', 'Jorge', 'Márcia', 'Geraldo', 'Adriana', 'Sandra', 'Luis']\n",
    "\n",
    "for i, item in enumerate(funcionarios):\n",
    "    print(item)\n"
   ]
  },
  {
   "cell_type": "markdown",
   "metadata": {},
   "source": [
    "### Exercício:\n",
    "\n",
    "- Suponha a seguinte situação: Em uma fábrica você tem vários produtos e não pode deixar que os produtos fiquem em falta. Para isso, foi definido uma quantidade mínima de estoque que os produtos precisam ter. Identifique quais produtos estão abaixo do nível mínimo de estoque.\n",
    "- (Na primeira célula use \"for in range\", na segunda, use \"for each\" e na terceira use \"for enumerate\")"
   ]
  },
  {
   "cell_type": "code",
   "execution_count": 63,
   "metadata": {},
   "outputs": [
    {
     "name": "stdout",
     "output_type": "stream",
     "text": [
      "Produto dolly está abaixo do nível mínimo de estoque. Quantidade em estoque: 20\n",
      "Produto red bull está abaixo do nível mínimo de estoque. Quantidade em estoque: 23\n"
     ]
    }
   ],
   "source": [
    "# for in range\n",
    "\n",
    "estoque = [1200, 300, 800, 1500, 1900, 2750, 400, 20, 23, 70, 90, 80, 1100, 999, 900, 880, 870, 50, 1111, 120, 300, 450, 800]\n",
    "produtos = ['coca', 'pepsi', 'guarana', 'skol', 'brahma', 'agua', 'del valle', 'dolly', 'red bull', 'cachaça', 'vinho tinto', 'vodka', 'vinho branco', 'tequila', 'champagne', 'gin', 'guaracamp', 'matte', 'leite de castanha', 'leite', 'jurupinga', 'sprite', 'fanta']\n",
    "nivel_minimo = 50\n",
    "\n",
    "for i in range(len(estoque)):\n",
    "    if estoque[i] < nivel_minimo:\n",
    "        print(f'Produto {produtos[i]} está abaixo do nível mínimo de estoque. Quantidade em estoque: {estoque[i]}')"
   ]
  },
  {
   "cell_type": "code",
   "execution_count": 77,
   "metadata": {},
   "outputs": [
    {
     "name": "stdout",
     "output_type": "stream",
     "text": [
      "Produto dolly está abaixo do nível mínimo de estoque. Quantidade em estoque: 20\n",
      "Produto red bull está abaixo do nível mínimo de estoque. Quantidade em estoque: 23\n"
     ]
    }
   ],
   "source": [
    "# for each\n",
    "\n",
    "estoque = [1200, 300, 800, 1500, 1900, 2750, 400, 20, 23, 70, 90, 80, 1100, 999, 900, 880, 870, 50, 1111, 120, 300, 450, 800]\n",
    "produtos = ['coca', 'pepsi', 'guarana', 'skol', 'brahma', 'agua', 'del valle', 'dolly', 'red bull', 'cachaça', 'vinho tinto', 'vodka', 'vinho branco', 'tequila', 'champagne', 'gin', 'guaracamp', 'matte', 'leite de castanha', 'leite', 'jurupinga', 'sprite', 'fanta']\n",
    "nivel_minimo = 50\n",
    "\n",
    "for produto, quantidade in zip(produtos, estoque):\n",
    "    if  quantidade < nivel_minimo:\n",
    "        print(f'Produto {produto} está abaixo do nível mínimo de estoque. Quantidade em estoque: {quantidade}')\n"
   ]
  },
  {
   "cell_type": "code",
   "execution_count": 84,
   "metadata": {},
   "outputs": [
    {
     "name": "stdout",
     "output_type": "stream",
     "text": [
      "Produto dolly está abaixo do nível mínimo de estoque. Quantidade em estoque: 20\n",
      "Produto red bull está abaixo do nível mínimo de estoque. Quantidade em estoque: 23\n"
     ]
    }
   ],
   "source": [
    "# for enumerate\n",
    "\n",
    "estoque = [1200, 300, 800, 1500, 1900, 2750, 400, 20, 23, 70, 90, 80, 1100, 999, 900, 880, 870, 50, 1111, 120, 300, 450, 800]\n",
    "produtos = ['coca', 'pepsi', 'guarana', 'skol', 'brahma', 'agua', 'del valle', 'dolly', 'red bull', 'cachaça', 'vinho tinto', 'vodka', 'vinho branco', 'tequila', 'champagne', 'gin', 'guaracamp', 'matte', 'leite de castanha', 'leite', 'jurupinga', 'sprite', 'fanta']\n",
    "nivel_minimo = 50\n",
    "\n",
    "for i, quantidade in enumerate(estoque):\n",
    "    if quantidade < nivel_minimo:\n",
    "        print(f'Produto {produtos[i]} está abaixo do nível mínimo de estoque. Quantidade em estoque: {quantidade}')"
   ]
  },
  {
   "cell_type": "markdown",
   "metadata": {},
   "source": [
    "# For dentro de For\n",
    "\n",
    "Quando temos listas dentro de listas, às vezes precisamos fazer um \"for dentro de for\""
   ]
  },
  {
   "cell_type": "raw",
   "metadata": {},
   "source": [
    "for item in lista: \n",
    "    for item2 in lista2:\n",
    "        codigo aqui"
   ]
  },
  {
   "cell_type": "code",
   "execution_count": 1,
   "metadata": {},
   "outputs": [
    {
     "name": "stdout",
     "output_type": "stream",
     "text": [
      "sofa\n"
     ]
    }
   ],
   "source": [
    "# imprimir somente o produto 'sofa' da lista abaixo\n",
    "catalogo = [[1, 'mesa'], [2, 'cadeira'], [3, 'sofa'], [4, 'armario'], [5, 'cama']]\n",
    "\n",
    "for item in catalogo:\n",
    "    if item == catalogo[2]:\n",
    "        for elemento in item:\n",
    "            if elemento != 3:\n",
    "                print(elemento)"
   ]
  },
  {
   "cell_type": "markdown",
   "metadata": {},
   "source": [
    "### Exercicio:"
   ]
  },
  {
   "cell_type": "markdown",
   "metadata": {},
   "source": [
    "- Suponha a seguinte situação: Em uma fábrica há vários produtos e os produtos não podem ficar em falta. Para isso, foi definido uma quantidade mínima de estoque que os produtos precisam ter. Dadas as indormações abaixo, identifique quais fábricas tem algum produto abaixo do nível de estoque e mostre:\n",
    "\n",
    "- Agora ao invés de analisar o estoque de apenas uma fábrica, é necessário analisar o estoque de várias fábricas"
   ]
  },
  {
   "cell_type": "code",
   "execution_count": 7,
   "metadata": {},
   "outputs": [
    {
     "name": "stdout",
     "output_type": "stream",
     "text": [
      "Fábricas com produtos abaixo do nível mínimo de estoque:\n",
      "- ABC Manufacturing\n",
      "- Fábrica e Cia\n",
      "- Python Manufaturas\n"
     ]
    }
   ],
   "source": [
    "fabricas = ['ABC Manufacturing', 'Fábrica e Cia', 'Python Manufaturas', 'Produções e Cia', 'Manufatura e Cia']\n",
    "estoques = [\n",
    "    [294, 125, 269, 208, 783, 852, 259, 371, 47, 102, 386, 87, 685, 686, 697, 941, 163, 631, 17, 714, 218, 670, 453],\n",
    "    [648, 816, 310, 555, 992, 643, 226, 319, 501, 23, 239, 42, 372, 441, 126, 645, 927, 911, 761, 445, 974, 20, 549],\n",
    "    [832, 683, 784, 449, 977, 705, 198, 937, 729, 327, 339, 10, 975, 310, 95, 689, 137, 795, 211, 538, 933, 751, 52],\n",
    "    [837, 168, 570, 397, 53, 297, 966, 714, 72, 737, 259, 629, 625, 469, 922, 305, 782, 243, 841, 848, 372, 62, 362],\n",
    "    [429, 242, 53, 985, 406, 186, 198, 50, 501, 870, 781, 632, 781, 105, 644, 509, 401, 88, 961, 765, 422, 340, 654],\n",
    "]\n",
    "nivel_minimo = 50\n",
    "\n",
    "fabricas_com_estoque_baixo = []\n",
    "\n",
    "for i, estoque in enumerate(estoques):\n",
    "    if any(produto < nivel_minimo for produto in estoque):\n",
    "        fabricas_com_estoque_baixo.append(fabricas[i])\n",
    "\n",
    "if fabricas_com_estoque_baixo:\n",
    "    print(\"Fábricas com produtos abaixo do nível mínimo de estoque:\")\n",
    "    for fabrica in fabricas_com_estoque_baixo:\n",
    "        print(f\"- {fabrica}\")\n",
    "else:\n",
    "    print(\"Nenhuma fábrica tem produtos abaixo do nível mínimo de estoque.\")"
   ]
  },
  {
   "cell_type": "markdown",
   "metadata": {},
   "source": [
    "# Formas de interromper um for\n",
    "\n",
    "### 2 Opções:\n",
    "\n",
    "- break -> interrompe e finaliza o for\n",
    "- continue -> interrompe e vai para o próximo item do for"
   ]
  },
  {
   "cell_type": "code",
   "execution_count": null,
   "metadata": {},
   "outputs": [],
   "source": [
    "vendas = [100, 150, 1500, 2000, 120]"
   ]
  },
  {
   "cell_type": "markdown",
   "metadata": {},
   "source": [
    "- Caso 1: Se todas as vendas forem acima da meta, a loja ganha bônus"
   ]
  },
  {
   "cell_type": "code",
   "execution_count": 9,
   "metadata": {},
   "outputs": [
    {
     "name": "stdout",
     "output_type": "stream",
     "text": [
      "A loja não ganha bônus!\n",
      "150\n",
      "1500\n",
      "2000\n",
      "120\n"
     ]
    }
   ],
   "source": [
    "meta = 110\n",
    "vendas = [100, 150, 1500, 2000, 120]\n",
    "\n",
    "for venda in vendas:\n",
    "    if venda < meta:\n",
    "        print('A loja não ganha bônus!')\n",
    "    else:\n",
    "        print(venda)"
   ]
  },
  {
   "cell_type": "code",
   "execution_count": 14,
   "metadata": {},
   "outputs": [
    {
     "name": "stdout",
     "output_type": "stream",
     "text": [
      "100\n",
      "Nem todos bateram a meta...\n"
     ]
    }
   ],
   "source": [
    "# Reescreva o código acima de forma que não seja necessário percorrer toda a lista\n",
    "meta = 110\n",
    "vendas = [100, 150, 1500, 2000, 120]\n",
    "\n",
    "for venda in vendas:\n",
    "    if venda < meta:\n",
    "        print(venda)\n",
    "        print('Nem todos bateram a meta...')\n",
    "        break\n",
    "    else:\n",
    "        continue\n"
   ]
  },
  {
   "cell_type": "markdown",
   "metadata": {},
   "source": [
    "- Caso 2: Exiba quem bateu a meta"
   ]
  },
  {
   "cell_type": "code",
   "execution_count": 11,
   "metadata": {},
   "outputs": [
    {
     "name": "stdout",
     "output_type": "stream",
     "text": [
      "Julia\n",
      "Ana\n",
      "José\n"
     ]
    }
   ],
   "source": [
    "vendedores = ['João', 'Julia', 'Ana', 'José', 'Maria']\n",
    "meta = 130\n",
    "\n",
    "for i, venda in enumerate(vendas):\n",
    "    if venda > meta:\n",
    "        print(vendedores[i])"
   ]
  },
  {
   "cell_type": "code",
   "execution_count": 21,
   "metadata": {},
   "outputs": [
    {
     "name": "stdout",
     "output_type": "stream",
     "text": [
      "Julia\n",
      "Ana\n",
      "José\n"
     ]
    }
   ],
   "source": [
    "# Reescreva o código acima de forma que não seja necessário entrar no bloco if para todas as verificações\n",
    "vendedores = ['João', 'Julia', 'Ana', 'José', 'Maria']\n",
    "meta = 130\n",
    "\n",
    "for i, venda in enumerate(vendas):\n",
    "    venda > meta and print(vendedores[i])\n"
   ]
  },
  {
   "cell_type": "code",
   "execution_count": null,
   "metadata": {},
   "outputs": [],
   "source": []
  }
 ],
 "metadata": {
  "kernelspec": {
   "display_name": "Python 3 (ipykernel)",
   "language": "python",
   "name": "python3"
  },
  "language_info": {
   "codemirror_mode": {
    "name": "ipython",
    "version": 3
   },
   "file_extension": ".py",
   "mimetype": "text/x-python",
   "name": "python",
   "nbconvert_exporter": "python",
   "pygments_lexer": "ipython3",
   "version": "3.12.7"
  }
 },
 "nbformat": 4,
 "nbformat_minor": 4
}
