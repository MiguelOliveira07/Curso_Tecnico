{
 "cells": [
  {
   "cell_type": "markdown",
   "id": "2b04bbea",
   "metadata": {},
   "source": [
    "# Lista de Exercícios - Strings (Gabarito)"
   ]
  },
  {
   "cell_type": "markdown",
   "id": "5b1f33b9",
   "metadata": {},
   "source": [
    "#### 1. Tamanho de strings. Faça um programa que leia 2 strings e informe o conteúdo delas seguido do seu comprimento. Informe também se as duas strings possuem o mesmo comprimento e são iguais ou diferentes no conteúdo.\n",
    "<pre>\n",
    "Compara duas strings\n",
    "String 1: Brasil Hexa 2026\n",
    "String 2: Brasil! Hexa 2026!\n",
    "\n",
    "Saída:\n",
    "    Tamanho de \"Brasil Hexa 2026\": 16 caracteres\n",
    "    Tamanho de \"Brasil! Hexa 2026!\": 18 caracteres\n",
    "    As duas strings são de tamanhos diferentes.\n",
    "    As duas strings possuem conteúdo diferente.\n",
    "</pre>"
   ]
  },
  {
   "cell_type": "code",
   "execution_count": null,
   "id": "c492b657",
   "metadata": {},
   "outputs": [],
   "source": [
    "\n",
    "\n"
   ]
  },
  {
   "cell_type": "markdown",
   "id": "ae44a9b7",
   "metadata": {},
   "source": [
    "#### 2. Nome ao contrário em maiúsculas. Faça um programa que permita ao usuário digitar o seu nome e em seguida mostre o nome do usuário de trás para frente utilizando somente letras maiúsculas. Dica: lembre−se que ao informar o nome o usuário pode digitar letras maiúsculas ou minúsculas."
   ]
  },
  {
   "cell_type": "code",
   "execution_count": null,
   "id": "cc3c533c",
   "metadata": {},
   "outputs": [],
   "source": [
    "\n",
    "\n"
   ]
  },
  {
   "cell_type": "markdown",
   "id": "dcb81b29",
   "metadata": {},
   "source": [
    "#### 3. Nome na vertical. Faça um programa que solicite o nome do usuário e imprima-o na vertical.\n",
    "<pre>\n",
    "Saída:\n",
    "    F\n",
    "    U\n",
    "    L\n",
    "    A\n",
    "    N\n",
    "    O\n",
    "</pre>"
   ]
  },
  {
   "cell_type": "code",
   "execution_count": null,
   "id": "09c0d2b3",
   "metadata": {},
   "outputs": [],
   "source": [
    "\n",
    "\n"
   ]
  },
  {
   "cell_type": "markdown",
   "id": "02447efb",
   "metadata": {},
   "source": [
    "#### 4. Nome na vertical em escada. Modifique o programa anterior de forma a mostrar o nome em formato de escada.\n",
    "<pre>\n",
    "Saída:\n",
    "    F\n",
    "    FU\n",
    "    FUL\n",
    "    FULA\n",
    "    FULAN\n",
    "    FULANO\n",
    "</pre>"
   ]
  },
  {
   "cell_type": "code",
   "execution_count": null,
   "id": "3fd00948",
   "metadata": {},
   "outputs": [],
   "source": [
    "\n",
    "\n"
   ]
  },
  {
   "cell_type": "markdown",
   "id": "7b5cdfbf",
   "metadata": {},
   "source": [
    "#### 5. Nome na vertical em escada invertida. Altere o programa anterior de modo que a escada seja invertida.\n",
    "<pre>\n",
    "Saída:\n",
    "    FULANO\n",
    "    FULAN\n",
    "    FULA\n",
    "    FUL\n",
    "    FU\n",
    "    F\n",
    "</pre>"
   ]
  },
  {
   "cell_type": "code",
   "execution_count": null,
   "id": "312a8235",
   "metadata": {},
   "outputs": [],
   "source": [
    "\n",
    "\n"
   ]
  },
  {
   "cell_type": "markdown",
   "id": "601570e7-7843-4682-8a65-bbb14c55fa14",
   "metadata": {},
   "source": [
    "#### 6. Conta espaços e vogais. Dado uma string com uma frase informada pelo usuário (incluindo espaços em branco), conte:\n",
    "<pre>\n",
    "a. quantos espaços em branco existem na frase.\n",
    "b. quantas vezes aparecem as vogais a, e, i, o, u.\n",
    "</pre>\n",
    "<pre>\n",
    "Saída:\n",
    "    Informe a frase:  Unidade - Lafaiete\n",
    "    Espaços: 2 - a: 3 - e: 3 - i: 2 - o: 0 - u: 0\n",
    "</pre>"
   ]
  },
  {
   "cell_type": "code",
   "execution_count": null,
   "id": "07403a4a",
   "metadata": {},
   "outputs": [],
   "source": [
    "\n",
    "\n"
   ]
  },
  {
   "cell_type": "markdown",
   "id": "c3068a53",
   "metadata": {},
   "source": [
    "#### 7. Valida e corrige número de telefone. Faça um programa que leia um número de telefone, e corrija o número no caso deste conter somente 7 dígitos, acrescentando o '3' na frente. O usuário pode informar o número com ou sem o traço separador.\n",
    "<pre>\n",
    "Saída:\n",
    "    Valida e corrige número de telefone\n",
    "    Telefone: 461-0133\n",
    "    Telefone possui 7 dígitos. Vou acrescentar o digito três na frente.\n",
    "    Telefone corrigido sem formatação: 34610133\n",
    "    Telefone corrigido com formatação: 3461-0133\n",
    "</pre>"
   ]
  },
  {
   "cell_type": "code",
   "execution_count": null,
   "id": "0308566d",
   "metadata": {},
   "outputs": [],
   "source": [
    "\n",
    "\n"
   ]
  }
 ],
 "metadata": {
  "kernelspec": {
   "display_name": "Python 3 (ipykernel)",
   "language": "python",
   "name": "python3"
  },
  "language_info": {
   "codemirror_mode": {
    "name": "ipython",
    "version": 3
   },
   "file_extension": ".py",
   "mimetype": "text/x-python",
   "name": "python",
   "nbconvert_exporter": "python",
   "pygments_lexer": "ipython3",
   "version": "3.9.18"
  }
 },
 "nbformat": 4,
 "nbformat_minor": 5
}
