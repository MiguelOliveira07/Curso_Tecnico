{
 "cells": [
  {
   "cell_type": "markdown",
   "id": "ac60394f",
   "metadata": {},
   "source": [
    "# Lista de Exercícios - Estrutura de Repetição (While)"
   ]
  },
  {
   "cell_type": "markdown",
   "id": "017affd0",
   "metadata": {},
   "source": [
    "#### 1. Faça um programa que peça uma nota, entre zero e dez. Mostre uma mensagem caso o valor seja inválido e continue pedindo até que o usuário informe um valor válido."
   ]
  },
  {
   "cell_type": "code",
   "execution_count": 16,
   "id": "5f12870d",
   "metadata": {},
   "outputs": [
    {
     "name": "stdout",
     "output_type": "stream",
     "text": [
      "Entrada inválida! Por favor, digite um número.\n",
      "Valor válido\n"
     ]
    }
   ],
   "source": [
    "while True:\n",
    "    try:\n",
    "        nota = int(input('Digite uma nota entre 0 e 10: '))\n",
    "        \n",
    "        if 0 <= nota <= 10:\n",
    "            print('Valor válido')\n",
    "            break\n",
    "        else:\n",
    "            print('Nota inválida')\n",
    "    except ValueError:\n",
    "        print('Entrada inválida! Por favor, digite um número.')"
   ]
  },
  {
   "cell_type": "markdown",
   "id": "dd0c6d56",
   "metadata": {},
   "source": [
    "#### 2. Faça um programa que leia um nome de usuário e a sua senha e não aceite a senha igual ao nome do usuário, mostrando uma mensagem de erro e voltando a pedir as informações."
   ]
  },
  {
   "cell_type": "code",
   "execution_count": null,
   "id": "f6579866",
   "metadata": {},
   "outputs": [
    {
     "name": "stdout",
     "output_type": "stream",
     "text": [
      "Os campos não podem estar vazios\n",
      "Os campos não podem estar vazios\n",
      "usuario ou senha invalida\n",
      "Cadastro feito!\n"
     ]
    }
   ],
   "source": [
    "while True:\n",
    "\n",
    "    usuario = input('Digite seu usuario: ')\n",
    "    senha = input('Digire sua senha: ')\n",
    "\n",
    "    if usuario == '' or senha == '':\n",
    "            print('O Campo não podem estar vazios')\n",
    "    elif usuario != senha:\n",
    "        print('Cadastro feito!')\n",
    "        break\n",
    "    else:\n",
    "        print('usuario ou senha invalida')\n",
    "    \n"
   ]
  },
  {
   "cell_type": "markdown",
   "id": "ed113a82",
   "metadata": {},
   "source": [
    "#### 3. Faça um programa que leia e valide as seguintes informações (e para cada uma delas, continue pedindo a informação até o usuário inserir corretamente):\n",
    "<pre>\n",
    "Nome: maior que 3 caracteres;\n",
    "Idade: entre 0 e 150;\n",
    "Salário: maior que zero;\n",
    "Sexo: 'f' ou 'm';\n",
    "Estado Civil: 's', 'c', 'v', 'd';\n",
    "</pre>"
   ]
  },
  {
   "cell_type": "code",
   "execution_count": 6,
   "id": "3284f187",
   "metadata": {},
   "outputs": [
    {
     "name": "stdout",
     "output_type": "stream",
     "text": [
      "Seu nome dever ter mais que 3 caracteres.\n",
      "Seu salario deve ser maior que 0\n",
      "Seu nome dever ter mais que 3 caracteres.\n",
      "Voce deve declarar seu sexo entre f (feminino) ou m (masculino)\n",
      "Cadastrado com sucesso\n"
     ]
    }
   ],
   "source": [
    "while True:\n",
    "\n",
    "    nome = input('Digite seu nome: ')\n",
    "    if len(nome) <= 3:\n",
    "        print('Seu nome dever ter mais que 3 caracteres.')\n",
    "        continue\n",
    "    idade = int(input('Digite sua idade: '))\n",
    "    if 0 <= idade > 150:\n",
    "        print('Idade invalida')\n",
    "        continue\n",
    "    salario = float(input('Digite seu salario: '))\n",
    "    if salario <= 0:\n",
    "        print('Seu salario deve ser maior que 0')\n",
    "        continue\n",
    "    listasexo = ['f', 'm']\n",
    "    sexo = input('Digite seu sexo: ')\n",
    "    if sexo not in listasexo:\n",
    "        print('Voce deve declarar seu sexo entre f (feminino) ou m (masculino)')\n",
    "        continue\n",
    "    listaestadoc = ['s', 'c', 'v', 'd']\n",
    "    estado_civil = input('Digite seu estado civil: ')\n",
    "    if estado_civil not in listaestadoc:\n",
    "        print('Voce deve declara seu estado civil entre s (solteiro/a), c (casado/a), v (viuvo/a), d (divorciado/a)')\n",
    "        continue\n",
    "    else:\n",
    "        print('Cadastrado com sucesso')\n",
    "        break\n"
   ]
  },
  {
   "cell_type": "markdown",
   "id": "2f25dceb",
   "metadata": {},
   "source": [
    "#### 4. Supondo que a população de um país A seja da ordem de 80000 habitantes com uma taxa anual de crescimento de 3% e que a população de B seja 200000 habitantes com uma taxa de crescimento de 1.5%. Faça um programa que calcule e escreva o número de anos necessários para que a população do país A ultrapasse ou iguale a população do país B, mantidas as taxas de crescimento."
   ]
  },
  {
   "cell_type": "code",
   "execution_count": 11,
   "id": "7ad0f5e9",
   "metadata": {},
   "outputs": [
    {
     "name": "stdout",
     "output_type": "stream",
     "text": [
      "Serão necessários 63 anos para a população do país A ultrapassar ou igualar a população do país B.\n",
      "População de A após 63 anos: 515033\n",
      "População de B após 63 anos: 510964\n"
     ]
    }
   ],
   "source": [
    "populacao_A = 80000\n",
    "populacao_B = 200000\n",
    "\n",
    "taxa_crescimento_A = 0.03  \n",
    "taxa_crescimento_B = 0.015  \n",
    "\n",
    "anos = 0\n",
    "\n",
    "while populacao_A < populacao_B:\n",
    "    populacao_A *= (1 + taxa_crescimento_A)  \n",
    "    populacao_B *= (1 + taxa_crescimento_B)  \n",
    "    anos += 1\n",
    "\n",
    "print(f\"Serão necessários {anos} anos para a população do país A ultrapassar ou igualar a população do país B.\")\n",
    "print(f\"População de A após {anos} anos: {int(populacao_A)}\")\n",
    "print(f\"População de B após {anos} anos: {int(populacao_B)}\")"
   ]
  },
  {
   "cell_type": "markdown",
   "id": "e9626858",
   "metadata": {},
   "source": [
    "#### 5. Altere o programa anterior permitindo ao usuário informar as populações e as taxas de crescimento iniciais. Valide a entrada e permita repetir a operação."
   ]
  },
  {
   "cell_type": "code",
   "execution_count": 15,
   "id": "c7e250a4",
   "metadata": {},
   "outputs": [
    {
     "name": "stdout",
     "output_type": "stream",
     "text": [
      "Serão necessários 63 anos para a população do país A ultrapassar ou igualar a população do país B.\n",
      "População de A após 63 anos: 515033\n",
      "População de B após 63 anos: 510964\n"
     ]
    }
   ],
   "source": [
    "populacao_A = float(input('Qual a população do país A: '))\n",
    "populacao_B = float(input('Qual a população do país B: '))\n",
    "taxa_crescimento_A =float(input('Qual a taxa de crescimento do país A (diga em %): '))\n",
    "taxa_crescimento_B =float(input('Qual a taxa de crescimento do páis B (diga em %): '))\n",
    "\n",
    "crescimento_a = taxa_crescimento_A / 100\n",
    "crescimento_b = taxa_crescimento_B / 100\n",
    "\n",
    "anos = 0\n",
    "\n",
    "while populacao_A < populacao_B:\n",
    "    populacao_A *= (1 + crescimento_a)  \n",
    "    populacao_B *= (1 + crescimento_b)  \n",
    "    anos += 1\n",
    "\n",
    "print(f\"Serão necessários {anos} anos para a população do país A ultrapassar ou igualar a população do país B.\")\n",
    "print(f\"População de A após {anos} anos: {int(populacao_A)}\")\n",
    "print(f\"População de B após {anos} anos: {int(populacao_B)}\")"
   ]
  },
  {
   "cell_type": "markdown",
   "id": "aad21b98",
   "metadata": {},
   "source": [
    "#### 6. Numa eleição existem três candidatos. Faça um programa que peça o número total de eleitores. Peça para cada eleitor votar e ao final mostrar o número de votos de cada candidato."
   ]
  },
  {
   "cell_type": "code",
   "execution_count": 18,
   "id": "84aa7a93",
   "metadata": {},
   "outputs": [
    {
     "name": "stdout",
     "output_type": "stream",
     "text": [
      "\n",
      "Eleitor 1:\n",
      "\n",
      "Eleitor 2:\n",
      "\n",
      "Eleitor 3:\n",
      "\n",
      "Eleitor 4:\n",
      "\n",
      "Eleitor 5:\n",
      "\n",
      "Resultado da eleição:\n",
      "Candidato 1: 1 votos\n",
      "Candidato 2: 2 votos\n",
      "Candidato 3: 2 votos\n"
     ]
    }
   ],
   "source": [
    "votos_candidato1 = 0\n",
    "votos_candidato2 = 0\n",
    "votos_candidato3 = 0\n",
    "\n",
    "total_eleitores = int(input(\"Digite o número total de eleitores: \"))\n",
    "\n",
    "eleitores_votados = 0\n",
    "\n",
    "\n",
    "while eleitores_votados < total_eleitores:\n",
    "    print(f\"\\nEleitor {eleitores_votados + 1}:\")\n",
    "    \n",
    " \n",
    "    while True:\n",
    "        voto = int(input(\"Digite o número do candidato (1, 2 ou 3): \"))\n",
    "        \n",
    "        if voto in [1, 2, 3]:  \n",
    "            break  \n",
    "        else:\n",
    "            print(\"Voto inválido! Digite 1, 2 ou 3.\")  \n",
    "    \n",
    "    if voto == 1:\n",
    "        votos_candidato1 += 1\n",
    "    elif voto == 2:\n",
    "        votos_candidato2 += 1\n",
    "    elif voto == 3:\n",
    "        votos_candidato3 += 1\n",
    "    \n",
    "    eleitores_votados += 1 \n",
    "\n",
    "print(\"\\nResultado da eleição:\")\n",
    "print(f\"Candidato 1: {votos_candidato1} votos\")\n",
    "print(f\"Candidato 2: {votos_candidato2} votos\")\n",
    "print(f\"Candidato 3: {votos_candidato3} votos\")"
   ]
  },
  {
   "cell_type": "markdown",
   "id": "227928d1",
   "metadata": {},
   "source": [
    "#### 7. O cardápio de uma lanchonete é o seguinte:\n",
    "<pre>\n",
    "Especificação   Código  Preço\n",
    "Cachorro Quente 100     R$ 1,20\n",
    "Bauru Simples   101     R$ 1,30\n",
    "Bauru com ovo   102     R$ 1,50\n",
    "Hambúrguer      103     R$ 1,20\n",
    "Cheeseburguer   104     R$ 1,30\n",
    "Refrigerante    105     R$ 1,00\n",
    "</pre>\n",
    "#### Faça um programa que leia o código dos itens pedidos e as quantidades desejadas. Calcule e mostre o valor a ser pago por item (preço * quantidade) e o total geral do pedido. Considere que o cliente deve informar quando o pedido deve ser encerrado."
   ]
  },
  {
   "cell_type": "code",
   "execution_count": 19,
   "id": "8a784b86",
   "metadata": {},
   "outputs": [
    {
     "name": "stdout",
     "output_type": "stream",
     "text": [
      "\n",
      "Cardápio:\n",
      "Código | Especificação       | Preço\n",
      "-------------------------------------\n",
      "   100 | Cachorro Quente      | R$ 1.20\n",
      "   101 | Bauru Simples        | R$ 1.30\n",
      "   102 | Bauru com ovo        | R$ 1.50\n",
      "   103 | Hambúrguer           | R$ 1.20\n",
      "   104 | Cheeseburguer        | R$ 1.30\n",
      "   105 | Refrigerante         | R$ 1.00\n",
      "Valor do item 'Bauru Simples': R$ 2.60\n",
      "\n",
      "Cardápio:\n",
      "Código | Especificação       | Preço\n",
      "-------------------------------------\n",
      "   100 | Cachorro Quente      | R$ 1.20\n",
      "   101 | Bauru Simples        | R$ 1.30\n",
      "   102 | Bauru com ovo        | R$ 1.50\n",
      "   103 | Hambúrguer           | R$ 1.20\n",
      "   104 | Cheeseburguer        | R$ 1.30\n",
      "   105 | Refrigerante         | R$ 1.00\n"
     ]
    },
    {
     "ename": "ValueError",
     "evalue": "invalid literal for int() with base 10: ''",
     "output_type": "error",
     "traceback": [
      "\u001b[31m---------------------------------------------------------------------------\u001b[39m",
      "\u001b[31mValueError\u001b[39m                                Traceback (most recent call last)",
      "\u001b[36mCell\u001b[39m\u001b[36m \u001b[39m\u001b[32mIn[19]\u001b[39m\u001b[32m, line 19\u001b[39m\n\u001b[32m     16\u001b[39m \u001b[38;5;28;01mfor\u001b[39;00m codigo, item \u001b[38;5;129;01min\u001b[39;00m cardapio.items():\n\u001b[32m     17\u001b[39m     \u001b[38;5;28mprint\u001b[39m(\u001b[33mf\u001b[39m\u001b[33m\"\u001b[39m\u001b[38;5;132;01m{\u001b[39;00mcodigo\u001b[38;5;132;01m:\u001b[39;00m\u001b[33m6\u001b[39m\u001b[38;5;132;01m}\u001b[39;00m\u001b[33m | \u001b[39m\u001b[38;5;132;01m{\u001b[39;00mitem[\u001b[33m'\u001b[39m\u001b[33mEspecificação\u001b[39m\u001b[33m'\u001b[39m]\u001b[38;5;132;01m:\u001b[39;00m\u001b[33m20\u001b[39m\u001b[38;5;132;01m}\u001b[39;00m\u001b[33m | R$ \u001b[39m\u001b[38;5;132;01m{\u001b[39;00mitem[\u001b[33m'\u001b[39m\u001b[33mPreço\u001b[39m\u001b[33m'\u001b[39m]\u001b[38;5;132;01m:\u001b[39;00m\u001b[33m.2f\u001b[39m\u001b[38;5;132;01m}\u001b[39;00m\u001b[33m\"\u001b[39m)\n\u001b[32m---> \u001b[39m\u001b[32m19\u001b[39m codigo = \u001b[38;5;28;43mint\u001b[39;49m\u001b[43m(\u001b[49m\u001b[38;5;28;43minput\u001b[39;49m\u001b[43m(\u001b[49m\u001b[33;43m\"\u001b[39;49m\u001b[38;5;130;43;01m\\n\u001b[39;49;00m\u001b[33;43mDigite o código do item (ou 0 para encerrar o pedido): \u001b[39;49m\u001b[33;43m\"\u001b[39;49m\u001b[43m)\u001b[49m\u001b[43m)\u001b[49m\n\u001b[32m     21\u001b[39m \u001b[38;5;28;01mif\u001b[39;00m codigo == \u001b[32m0\u001b[39m:\n\u001b[32m     22\u001b[39m     \u001b[38;5;28;01mbreak\u001b[39;00m\n",
      "\u001b[31mValueError\u001b[39m: invalid literal for int() with base 10: ''"
     ]
    }
   ],
   "source": [
    "cardapio = {\n",
    "    100: {\"Especificação\": \"Cachorro Quente\", \"Preço\": 1.20},\n",
    "    101: {\"Especificação\": \"Bauru Simples\", \"Preço\": 1.30},\n",
    "    102: {\"Especificação\": \"Bauru com ovo\", \"Preço\": 1.50},\n",
    "    103: {\"Especificação\": \"Hambúrguer\", \"Preço\": 1.20},\n",
    "    104: {\"Especificação\": \"Cheeseburguer\", \"Preço\": 1.30},\n",
    "    105: {\"Especificação\": \"Refrigerante\", \"Preço\": 1.00},\n",
    "}\n",
    "\n",
    "total_pedido = 0.0\n",
    "\n",
    "while True:\n",
    "    print(\"\\nCardápio:\")\n",
    "    print(\"Código | Especificação       | Preço\")\n",
    "    print(\"-------------------------------------\")\n",
    "    for codigo, item in cardapio.items():\n",
    "        print(f\"{codigo:6} | {item['Especificação']:20} | R$ {item['Preço']:.2f}\")\n",
    "    \n",
    "    codigo = int(input(\"\\nDigite o código do item (ou 0 para encerrar o pedido): \"))\n",
    "    \n",
    "    if codigo == 0:\n",
    "        break\n",
    "    \n",
    "    if codigo not in cardapio:\n",
    "        print(\"Código inválido! Tente novamente.\")\n",
    "        continue\n",
    "    \n",
    "    quantidade = int(input(\"Digite a quantidade desejada: \"))\n",
    "    \n",
    "    preco_item = cardapio[codigo][\"Preço\"]\n",
    "    valor_item = preco_item * quantidade\n",
    "    total_pedido += valor_item\n",
    "    \n",
    "    print(f\"Valor do item '{cardapio[codigo]['Especificação']}': R$ {valor_item:.2f}\")\n",
    "\n",
    "print(f\"\\nTotal do pedido: R$ {total_pedido:.2f}\")"
   ]
  },
  {
   "cell_type": "code",
   "execution_count": null,
   "id": "fe66283d",
   "metadata": {},
   "outputs": [],
   "source": []
  }
 ],
 "metadata": {
  "kernelspec": {
   "display_name": "Python 3",
   "language": "python",
   "name": "python3"
  },
  "language_info": {
   "codemirror_mode": {
    "name": "ipython",
    "version": 3
   },
   "file_extension": ".py",
   "mimetype": "text/x-python",
   "name": "python",
   "nbconvert_exporter": "python",
   "pygments_lexer": "ipython3",
   "version": "3.13.2"
  }
 },
 "nbformat": 4,
 "nbformat_minor": 5
}
