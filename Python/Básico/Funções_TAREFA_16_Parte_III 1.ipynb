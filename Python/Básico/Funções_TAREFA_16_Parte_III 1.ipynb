{
  "cells": [
    {
      "cell_type": "markdown",
      "id": "decd2055-ad49-4b2c-bf7b-e4d1b95a16ad",
      "metadata": {
        "id": "decd2055-ad49-4b2c-bf7b-e4d1b95a16ad"
      },
      "source": [
        "# Funções - Parte III"
      ]
    },
    {
      "cell_type": "markdown",
      "id": "e3b033d3",
      "metadata": {
        "id": "e3b033d3"
      },
      "source": [
        "# Docstring e Annotations\n",
        "\n",
        "### Estrutura - São ferramentas \"apenas\" para organização:\n",
        "\n",
        "Quando criamos uma função, normalmente não seremos as únicas pessoas a usarem essa função e também pode ser que a gente precise usar essa mesma função semanas, meses ou até anos depois da sua criação.\n",
        "\n",
        "Por isso é importante usarmos DocStrings e Annotations\n",
        "\n",
        "- <b><i>Docstring</i> -> diz o que a função faz, quais valores ela tem como argumento e o que significa cada valor</b>\n",
        "- <b><i>Annotation</i> -> diz o que devem ser os argumentos e o que a função retorna</b>\n",
        "\n",
        "Em muitas empresas, o time de tecnologia vai ter um padrão que você deve seguir para isso, mas caso não tenha, abaixo um padrão bom a ser utilizado.\n",
        "\n",
        "### Docstring:"
      ]
    },
    {
      "cell_type": "raw",
      "id": "dac52134",
      "metadata": {
        "id": "dac52134"
      },
      "source": [
        "def minha_funcao(arg1, arg2, ...):\n",
        "    '''O que a função faz\n",
        "\n",
        "    Parameters:\n",
        "        arg1 (int): o que é o argumento 1\n",
        "        arg2 (str): o que é o argumento 2\n",
        "        ...\n",
        "\n",
        "    Returns:\n",
        "        texto (str): o que a função retorna como resposta\n",
        "    '''\n",
        "\n",
        "    ...código da função"
      ]
    },
    {
      "cell_type": "code",
      "execution_count": null,
      "id": "4a8dfee4-d8e1-41d8-9d9c-157abb941282",
      "metadata": {
        "id": "4a8dfee4-d8e1-41d8-9d9c-157abb941282"
      },
      "outputs": [],
      "source": [
        "def minha_soma(num1, num2, num3):\n",
        "    '''\n",
        "    Descrição:\n",
        "        Faz a soma de 3 números inteiros e devolve como resposta um inteiro\n",
        "\n",
        "    Parâmetro(s):\n",
        "        num1 (int): primeiro número a ser somado\n",
        "        num2 (int): segundo número a ser somado\n",
        "        num3 (int): terceiro número a ser somado\n",
        "\n",
        "    Retorno(s):\n",
        "        soma (int): o valor da soma dos 3 números dados como argumento\n",
        "    '''\n",
        "    return num1 + num2 + num3"
      ]
    },
    {
      "cell_type": "markdown",
      "id": "c2f42bb1",
      "metadata": {
        "id": "c2f42bb1"
      },
      "source": [
        "###### <b>EXERCÍCIO</b>: Baseado no exemplo acima, crie outra função, e elabore um Docstring pra ela."
      ]
    },
    {
      "cell_type": "code",
      "execution_count": null,
      "id": "b284f8e0",
      "metadata": {
        "id": "b284f8e0",
        "colab": {
          "base_uri": "https://localhost:8080/"
        },
        "outputId": "e7b0fef3-bf69-4971-ed57-a7a67b14219a"
      },
      "outputs": [
        {
          "output_type": "stream",
          "name": "stdout",
          "text": [
            "2\n"
          ]
        }
      ],
      "source": [
        "def minha_subtracao(num1=0, num2=0, num3=0):\n",
        "  '''\n",
        "  Faz a subtração de 3 números inteiros.\n",
        "  num1: primeiro valor (padrão = 0).\n",
        "  num2: segundos valor (padrão = 0).\n",
        "  num3: terceiro valor (padrão = 0).\n",
        "  return: retorna a subtração entre os 3 valores passados.\n",
        "  '''\n",
        "\n",
        "  # calculando a subtração\n",
        "  subtracao = num1 - num2 - num3\n",
        "\n",
        "  return subtracao\n",
        "\n",
        "print(minha_subtracao(10, 5, 3))"
      ]
    },
    {
      "cell_type": "markdown",
      "id": "06d99ac6",
      "metadata": {
        "id": "06d99ac6"
      },
      "source": [
        "### Annotation:"
      ]
    },
    {
      "cell_type": "raw",
      "id": "29c8a29e-cd2f-4069-8f04-15f9ddb2feb2",
      "metadata": {
        "id": "29c8a29e-cd2f-4069-8f04-15f9ddb2feb2"
      },
      "source": [
        "def minha_funcao(arg1: isso, arg2: aquilo) -> o que a função retorna:\n",
        "    ...\n",
        "    return ..."
      ]
    },
    {
      "cell_type": "code",
      "execution_count": null,
      "id": "23dfd301-ecb3-4d61-8e66-da33bcb59f35",
      "metadata": {
        "id": "23dfd301-ecb3-4d61-8e66-da33bcb59f35"
      },
      "outputs": [],
      "source": [
        "def minha_soma(num1: int, num2: int, num3: int) -> int:\n",
        "    return num1 + num2 + num3"
      ]
    },
    {
      "cell_type": "markdown",
      "id": "210cbf36",
      "metadata": {
        "id": "210cbf36"
      },
      "source": [
        "###### <b>EXERCÍCIO</b>: Baseado no exemplo acima, crie outra função, e elabore um Annotation pra ela."
      ]
    },
    {
      "cell_type": "code",
      "execution_count": null,
      "id": "de051fd9",
      "metadata": {
        "id": "de051fd9",
        "colab": {
          "base_uri": "https://localhost:8080/"
        },
        "outputId": "79dc3e88-0a4c-4741-aab9-f8a964593538"
      },
      "outputs": [
        {
          "output_type": "stream",
          "name": "stdout",
          "text": [
            "-6.8\n"
          ]
        }
      ],
      "source": [
        "def minha_subtracao(num1: float, num2: float, num3: float) -> float:\n",
        "  '''\n",
        "  Faz a subtração de 3 números inteiros.\n",
        "  num1: primeiro valor.\n",
        "  num2: segundos valor.\n",
        "  num3: terceiro valor.\n",
        "  return: retorna a subtração entre os 3 valores passados.\n",
        "  '''\n",
        "\n",
        "  # calculando a subtração\n",
        "  subtracao = num1 - num2 - num3\n",
        "\n",
        "  return subtracao\n",
        "\n",
        "print(minha_subtracao(1.2, 5, 3))\n",
        "\n"
      ]
    },
    {
      "cell_type": "markdown",
      "id": "0f0a4792",
      "metadata": {
        "id": "0f0a4792"
      },
      "source": [
        "# Exceções e Erros em Funções\n",
        "\n",
        "### Como \"testar\" erros e tratar exceções:"
      ]
    },
    {
      "cell_type": "raw",
      "id": "f703e340",
      "metadata": {
        "id": "f703e340"
      },
      "source": [
        "try:\n",
        "    o que eu quero tentar fazer\n",
        "except:\n",
        "    o que vou fazer caso dê erro"
      ]
    },
    {
      "cell_type": "markdown",
      "id": "f716cdbd",
      "metadata": {
        "id": "f716cdbd"
      },
      "source": [
        "- Cuidado: uma vez dentro do try, qualquer erro vai levar ao except"
      ]
    },
    {
      "cell_type": "markdown",
      "id": "ff77fc22-5bb9-4d82-9c29-c13537a14afd",
      "metadata": {
        "id": "ff77fc22-5bb9-4d82-9c29-c13537a14afd"
      },
      "source": [
        "###### <b>EXERCÍCIO</b>: Utilizando a estrutura try/except crie uma função que dado um email válido, retorna o servidor de e-mail ao qual ele pertence."
      ]
    },
    {
      "cell_type": "code",
      "execution_count": null,
      "id": "f17160a3",
      "metadata": {
        "id": "f17160a3",
        "colab": {
          "base_uri": "https://localhost:8080/"
        },
        "outputId": "50ddb57a-e5b2-4829-9c1f-2dc226d7da2f"
      },
      "outputs": [
        {
          "output_type": "stream",
          "name": "stdout",
          "text": [
            "Informe seu email: maiconvinicius7756@gmail.com\n",
            "Google\n"
          ]
        }
      ],
      "source": [
        "def servidorEmail(email):\n",
        "  '''\n",
        "  Analisa um email e informa de qual servidor ele é.\n",
        "  email: email do usuário\n",
        "  return: retorna o nome do servidor do email informado.\n",
        "\n",
        "  '''\n",
        "\n",
        "  #  google\n",
        "  if 'gmail' in email:\n",
        "    servidor = 'Google'\n",
        "\n",
        "  # yahoo\n",
        "  elif 'yahoo' in email:\n",
        "    servidor = 'Yahoo'\n",
        "\n",
        "  # outlook\n",
        "  elif'outlook' in email:\n",
        "    servidor = 'Outlook'\n",
        "\n",
        "  # servidor desconhecido\n",
        "  else:\n",
        "    servidor = 'Servidor desconhecido'\n",
        "\n",
        "  return servidor\n",
        "\n",
        "# pegando o email do usuário\n",
        "meu_email = str(input('Informe seu email: ')).strip().lower()\n",
        "\n",
        "# mostrando o servidor\n",
        "print(servidorEmail(meu_email))"
      ]
    },
    {
      "cell_type": "markdown",
      "id": "011e5962",
      "metadata": {
        "id": "011e5962"
      },
      "source": [
        "### Como \"printar\" um erro em uma function"
      ]
    },
    {
      "cell_type": "raw",
      "id": "d995c892",
      "metadata": {
        "id": "d995c892"
      },
      "source": [
        "raise Exception('O erro foi esse')\n",
        "\n",
        "ou então avisando qual o tipo de erro que ele teve\n",
        "\n",
        "raise TypeError('O erro foi esse')\n",
        "raise ValueError('O erro foi esse')\n",
        "raise ZeroDivisionError('O erro foi esse')"
      ]
    },
    {
      "cell_type": "markdown",
      "id": "457ed7db-5743-461d-9d08-3bb4d4d8edc0",
      "metadata": {
        "id": "457ed7db-5743-461d-9d08-3bb4d4d8edc0"
      },
      "source": [
        "###### <b>EXERCÍCIO</b>: Baseado no exemplo acima, crie funções, e elabore tratamento de erros, para cada um dos tipos de erros listados."
      ]
    },
    {
      "cell_type": "code",
      "execution_count": null,
      "id": "641e7e89",
      "metadata": {
        "id": "641e7e89"
      },
      "outputs": [],
      "source": [
        "# Crie seu código aqui\n",
        "\n"
      ]
    },
    {
      "cell_type": "code",
      "execution_count": null,
      "id": "2cbb0ab4",
      "metadata": {
        "id": "2cbb0ab4"
      },
      "outputs": [],
      "source": [
        "# Crie seu código aqui\n",
        "\n"
      ]
    },
    {
      "cell_type": "code",
      "execution_count": null,
      "id": "29498393-0bb0-4b14-8d3b-f0315c4cc647",
      "metadata": {
        "id": "29498393-0bb0-4b14-8d3b-f0315c4cc647"
      },
      "outputs": [],
      "source": [
        "# Crie seu código aqui\n",
        "\n"
      ]
    },
    {
      "cell_type": "code",
      "execution_count": null,
      "id": "b06a8e26",
      "metadata": {
        "id": "b06a8e26"
      },
      "outputs": [],
      "source": [
        "# Crie seu código aqui\n",
        "\n"
      ]
    },
    {
      "cell_type": "markdown",
      "id": "66c0843a",
      "metadata": {
        "id": "66c0843a"
      },
      "source": [
        "### Tratamento Completo:"
      ]
    },
    {
      "cell_type": "raw",
      "id": "2854f127",
      "metadata": {
        "id": "2854f127"
      },
      "source": [
        "try:\n",
        "    tente fazer isso\n",
        "except ErroEspecífico:\n",
        "    deu esse erro aqui que era esperado\n",
        "else:\n",
        "    caso não dê o erro esperado, rode isso.\n",
        "finally:\n",
        "    independente do que acontecer, faça isso."
      ]
    },
    {
      "cell_type": "markdown",
      "id": "5f7353ab",
      "metadata": {
        "id": "5f7353ab"
      },
      "source": [
        "###### <b>EXERCÍCIO</b>: Baseado no exemplo acima, crie outra função, e elabore um tratamento de erro completo, como listado acima."
      ]
    },
    {
      "cell_type": "code",
      "execution_count": null,
      "id": "feb36129",
      "metadata": {
        "id": "feb36129"
      },
      "outputs": [],
      "source": [
        "# Crie seu código aqui\n",
        "\n"
      ]
    },
    {
      "cell_type": "markdown",
      "id": "dad4f942",
      "metadata": {
        "id": "dad4f942"
      },
      "source": [
        "# Quantidade Indefinidas de Argumentos\n",
        "\n",
        "### Utilidade:\n",
        "\n",
        "Quando você quer permitir uma quantidade indefinida de argumentos, usa o * para isso.\n",
        "\n",
        "### Estrutura:"
      ]
    },
    {
      "cell_type": "raw",
      "id": "93ee858e",
      "metadata": {
        "id": "93ee858e"
      },
      "source": [
        "*args para positional arguments -> argumentos vêm em formato de tupla\n",
        "\n",
        "def minha_funcao(*args):\n",
        "    ...\n",
        "\n",
        "\n",
        "**kwargs para keyword arguments -> argumentos vêm em formato de dicionário\n",
        "\n",
        "def minha_funcao(**kwargs):\n",
        "    ..."
      ]
    },
    {
      "cell_type": "code",
      "execution_count": null,
      "id": "82c9edd9",
      "metadata": {
        "id": "82c9edd9",
        "outputId": "63e99557-78ee-4c28-de1d-f010026429df"
      },
      "outputs": [
        {
          "name": "stdout",
          "output_type": "stream",
          "text": [
            "1\n",
            "teste\n",
            "200\n",
            "fdfdfdf\n",
            "fdgfgfgf\n",
            "\n",
            "\n"
          ]
        }
      ],
      "source": [
        "print(1, 'teste', 200, 'fdfdfdf', 'fdgfgfgf', '\\n', sep='\\n')"
      ]
    },
    {
      "cell_type": "code",
      "execution_count": null,
      "id": "4a31f2c3",
      "metadata": {
        "id": "4a31f2c3"
      },
      "outputs": [],
      "source": [
        "def minha_soma(*numeros):\n",
        "    print(numeros)\n",
        "    soma = 0\n",
        "    for numero in numeros:\n",
        "        soma += numero\n",
        "    return soma"
      ]
    },
    {
      "cell_type": "code",
      "execution_count": null,
      "id": "47d5a4e8",
      "metadata": {
        "id": "47d5a4e8",
        "outputId": "27ac8b32-d803-4a48-b0ef-82f89c51990f"
      },
      "outputs": [
        {
          "name": "stdout",
          "output_type": "stream",
          "text": [
            "(23, 54, 656, 10)\n",
            "743\n"
          ]
        }
      ],
      "source": [
        "soma = minha_soma(23, 54, 656, 10)\n",
        "\n",
        "print(soma)"
      ]
    },
    {
      "cell_type": "code",
      "execution_count": null,
      "id": "92e3c184",
      "metadata": {
        "id": "92e3c184"
      },
      "outputs": [],
      "source": [
        "def preco_final(preco, **adicionais):\n",
        "    print(adicionais)\n",
        "    if 'desconto' in adicionais:\n",
        "        preco *= (1 - adicionais['desconto'])\n",
        "    if 'garantia_extra' in adicionais:\n",
        "        preco += adicionais['garantia_extra']\n",
        "    if 'imposto' in adicionais:\n",
        "        preco *= (1 + adicionais['imposto'])\n",
        "    return preco"
      ]
    },
    {
      "cell_type": "code",
      "execution_count": null,
      "id": "daa8306a",
      "metadata": {
        "id": "daa8306a",
        "outputId": "53a9a9ca-faa2-4edb-e6c0-305477fe033d"
      },
      "outputs": [
        {
          "name": "stdout",
          "output_type": "stream",
          "text": [
            "{'desconto': 0.5, 'imposto': 0.34}\n",
            "67.0\n"
          ]
        }
      ],
      "source": [
        "preco = preco_final(100, desconto=0.5, imposto=0.34)\n",
        "\n",
        "print(preco)"
      ]
    },
    {
      "cell_type": "markdown",
      "id": "7c0d0cc0",
      "metadata": {
        "id": "7c0d0cc0"
      },
      "source": [
        "###### <b>EXERCÍCIO</b>: Baseado nos exemplos acima, crie outras duas funções: uma receber argumentos posicionais indefinidos e outra para argumentos do tipo palavras-chave indefinidos."
      ]
    },
    {
      "cell_type": "code",
      "execution_count": null,
      "id": "fa87da71",
      "metadata": {
        "id": "fa87da71",
        "colab": {
          "base_uri": "https://localhost:8080/"
        },
        "outputId": "80ae0d7c-7788-4040-fe73-05eed0a77104"
      },
      "outputs": [
        {
          "output_type": "stream",
          "name": "stdout",
          "text": [
            "188.1\n"
          ]
        }
      ],
      "source": [
        "def posicionais(*numeros):\n",
        "  '''\n",
        "  Soma um número indeterminado de valores.\n",
        "  numeros: todos os valores a serem somados.\n",
        "  return: retorna a soma de todos os valores passados.\n",
        "  '''\n",
        "\n",
        "  # somando os números\n",
        "  soma = sum(numeros)\n",
        "\n",
        "  # retornando a soma\n",
        "  return soma\n",
        "\n",
        "\n",
        "soma = posicionais(10, 23, 45, 10, 99, 1.1)\n",
        "print(soma)"
      ]
    },
    {
      "cell_type": "code",
      "execution_count": null,
      "id": "532716e7-b17b-4bc0-af60-fc7c3c8e1105",
      "metadata": {
        "id": "532716e7-b17b-4bc0-af60-fc7c3c8e1105"
      },
      "outputs": [],
      "source": [
        "# Crie seu código aqui\n",
        "\n"
      ]
    },
    {
      "cell_type": "markdown",
      "id": "2e99c7f9",
      "metadata": {
        "id": "2e99c7f9"
      },
      "source": [
        "# Ordem dos Argumentos\n",
        "\n",
        "### Estrutura:\n",
        "\n",
        "- Sempre os positional arguments vêm antes e depois os keywords arguments.\n",
        "- Sempre os argumentos individuais vêm antes e depois os \"múltiplos\""
      ]
    },
    {
      "cell_type": "raw",
      "id": "c8b3c742",
      "metadata": {
        "id": "c8b3c742"
      },
      "source": [
        "def minha_funcao(arg1, arg2, arg3, arg4, *args, k = kwarg1, k2 = kwarg2, k3 = kwarg3, **kwargs):\n",
        "    ..."
      ]
    },
    {
      "cell_type": "markdown",
      "id": "2b2326dc",
      "metadata": {
        "id": "2b2326dc"
      },
      "source": [
        "###### <b>EXERCÍCIO</b>: Baseado no exemplo acima, crie outra função, atribuindo argumentos posicionais e de palavras-chave seguindo a ordem acima."
      ]
    },
    {
      "cell_type": "code",
      "execution_count": null,
      "id": "66c67b29",
      "metadata": {
        "id": "66c67b29",
        "colab": {
          "base_uri": "https://localhost:8080/"
        },
        "outputId": "d95e3a6f-4b80-4e6a-cb40-048cec0bc93d"
      },
      "outputs": [
        {
          "output_type": "stream",
          "name": "stdout",
          "text": [
            "70\n"
          ]
        }
      ],
      "source": [
        "def somaDoisValores(num1, *, num2):\n",
        "  '''\n",
        "  Soma dois valores.\n",
        "  num1: primeiro valor.\n",
        "  num2: segundo valor.\n",
        "  return: retorna a soma dos dois valores\n",
        "  '''\n",
        "\n",
        "  # calculando a soma\n",
        "  soma = num1 + num2\n",
        "\n",
        "  # retornando a soma\n",
        "  return soma\n",
        "\n",
        "\n",
        "# aplicando a função\n",
        "print(somaDoisValores(80, num2=-10))\n",
        "\n"
      ]
    },
    {
      "cell_type": "markdown",
      "id": "62640819",
      "metadata": {
        "id": "62640819"
      },
      "source": [
        "###### <b>EXERCÍCIO</b>: Criando uma Lista de Produtos\n",
        "\n",
        "Muitas vezes as listas de produtos, de clientes, de funcionários, etc que temos nas empresas não são 100% confiáveis.\n",
        "\n",
        "Isso significa que na prática, caímos em muitos casos de ter uma lista de produtos, mas quando olhamos por exemplo uma base com a posição em estoque de cada produto, surge nessa \"base\" produtos que não existiam na nossa lista inicial.\n",
        "\n",
        "Então agora vamos fazer uma função justamente com esse objetivo.\n",
        "\n",
        "Digamos que você receba, 2, 3, 5 ou até 10 bases com a posição em estoque de vários produtos.\n",
        "\n",
        "Vamos criar uma função que pega todas essas listas e cria, a partir dela, uma lista de produtos. Com o objetivo de saber todos os produtos que temos na empresa. Repare que a função pode receber 1, 2, 3 ou quantas listas de estoque forem necessárias.\n",
        "\n",
        "Obs: Lembre dos \"sets\" para fazer a lista de produtos não ter produtos repetidos\n",
        "\n",
        "- Exemplo da saída:"
      ]
    },
    {
      "cell_type": "raw",
      "id": "b64dbebc",
      "metadata": {
        "id": "b64dbebc"
      },
      "source": [
        "lista_estoque = [\n",
        "    'produto1',\n",
        "    'produto2',\n",
        "    'produto3',\n",
        "    'produto4',\n",
        "    ...\n",
        "]"
      ]
    },
    {
      "cell_type": "code",
      "execution_count": null,
      "id": "cca6c437",
      "metadata": {
        "id": "cca6c437"
      },
      "outputs": [],
      "source": [
        "# Listas:\n",
        "\n",
        "estoque_fim_jan = [('BSA2199',396),('PPF5239',251),('BSA1212',989),('PPF2154',449),('BEB3410',241),('PPF8999',527),('EMB9591',601),('BSA2006',314),('EMB3604',469),('EMB2070',733),('PPF9018',339),('PPF1468',906),('BSA5819',291),('PPF8666',850),('BEB2983',353),('BEB5877',456),('PPF5008',963),('PPF3877',185),('PPF7321',163),('BSA8833',644),('PPF4980',421),('PPF3063',757),('BSA2089',271),('BSA8398',180),('EMB4622',515),('EMB9814',563),('PPF3784',229),('PPF2398',270),('BEB3211',181),('PPF8655',459),('PPF1874',799),('PPF8789',126),('PPF6324',375),('EMB9290',883),('BSA5516',555),('BSA8451',243),('BSA8213',423)]\n",
        "estoque_fim_fev = [('BSA2199',849),('PPF5239',877),('BSA1212',336),('PPF2154',714),('BEB3410',834),('PPF8999',201),('EMB9591',576),('BSA2006',985),('EMB3604',615),('EMB2070',182),('PPF9018',127),('PPF1468',212),('BSA5819',338),('PPF8666',751),('BEB2983',363),('BEB5877',916),('PPF5008',331),('PPF3877',744),('PPF7321',488),('BSA8833',277),('PPF4980',530),('PPF3063',796),('BSA2089',396),('BSA8398',478),('EMB4622',603),('EMB9814',784),('PPF3784',434),('PPF2398',896),('BEB3211',826),('PPF8655',748),('PPF1874',210),('PPF8789',891),('PPF6324',250),('EMB6618',611),('BSA3409',984),('BSA9866',870),('BSA1792',672)]\n",
        "estoque_fim_mar = [('BSA2199',772),('PPF5239',394),('BSA1212',409),('PPF2154',473),('BEB3410',831),('PPF8999',764),('EMB9591',942),('BSA2006',482),('EMB3604',745),('EMB2070',451),('PPF9018',608),('PPF1468',675),('BSA5819',431),('PPF8666',795),('BEB2983',439),('BEB5877',588),('PPF5008',442),('PPF3877',950),('PPF7321',606),('BSA8833',464),('PPF4980',819),('PPF3063',687),('BSA2089',253),('BSA8398',437),('EMB4622',769),('EMB9814',178),('PPF3784',996),('PPF2398',588),('BEB3211',247),('PPF8655',309),('PPF1874',305),('PPF8789',878),('PPF6324',826),('EMB6618',534),('BSA3409',705),('BSA9895',618),('BSA4319',690)]\n",
        "estoque_fim_abr = [('BSA2199',647),('PPF5239',292),('BSA1212',551),('PPF2154',802),('BEB3410',712),('PPF8999',603),('EMB9591',963),('BSA2006',481),('EMB3604',199),('EMB2070',635),('PPF9018',956),('PPF1468',161),('BSA5819',787),('PPF8666',771),('BEB2983',867),('BEB5877',539),('PPF5008',614),('PPF3877',715),('PPF7321',336),('BSA8833',961),('PPF4980',116),('PPF3063',876),('BSA2089',579),('BSA8398',814),('EMB4622',434),('EMB9814',981),('PPF3784',498),('PPF2398',498),('BEB3211',606),('PPF8655',168),('PPF1874',518),('PPF8789',157),('PPF6324',501),('EMB6618',932),('BSA3409',247),('BSA9895',287),('BSA4319',477)]"
      ]
    },
    {
      "cell_type": "code",
      "execution_count": null,
      "id": "f3228124",
      "metadata": {
        "id": "f3228124"
      },
      "outputs": [],
      "source": [
        "# Crie sua função aqui:\n",
        "\n"
      ]
    },
    {
      "cell_type": "code",
      "execution_count": null,
      "id": "06d5ed69",
      "metadata": {
        "id": "06d5ed69"
      },
      "outputs": [],
      "source": [
        "# Crie o seu código aqui:\n",
        "\n"
      ]
    }
  ],
  "metadata": {
    "kernelspec": {
      "display_name": "Python3.12.3",
      "language": "python",
      "name": "python3.12.3"
    },
    "language_info": {
      "codemirror_mode": {
        "name": "ipython",
        "version": 3
      },
      "file_extension": ".py",
      "mimetype": "text/x-python",
      "name": "python",
      "nbconvert_exporter": "python",
      "pygments_lexer": "ipython3",
      "version": "3.12.3"
    },
    "colab": {
      "provenance": []
    }
  },
  "nbformat": 4,
  "nbformat_minor": 5
}