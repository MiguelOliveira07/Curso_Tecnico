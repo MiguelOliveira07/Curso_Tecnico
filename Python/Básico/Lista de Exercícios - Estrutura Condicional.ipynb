{
 "cells": [
  {
   "cell_type": "markdown",
   "id": "8535c274",
   "metadata": {},
   "source": [
    "# Lista de Exercícios - Estruturas de Decisão"
   ]
  },
  {
   "cell_type": "markdown",
   "id": "9c3d817e",
   "metadata": {},
   "source": [
    "#### 1. Faça um Programa que peça dois números e imprima o maior deles."
   ]
  },
  {
   "cell_type": "code",
   "execution_count": null,
   "id": "ae45c028",
   "metadata": {},
   "outputs": [],
   "source": [
    "num1 = float(input(\"Insira um número: \"))\n",
    "num2 = float(input(\"Insira um número: \"))\n",
    "\n",
    "resul = max(num1, num2)\n",
    "\n",
    "print(f\"O mair valor é: {resul}.\")"
   ]
  },
  {
   "cell_type": "markdown",
   "id": "ff510803",
   "metadata": {},
   "source": [
    "#### 2. Faça um Programa que peça um valor e mostre na tela se o valor é positivo ou negativo."
   ]
  },
  {
   "cell_type": "code",
   "execution_count": null,
   "id": "8952f58f",
   "metadata": {},
   "outputs": [],
   "source": [
    "num = int(input(\"Digite um número: \"))\n",
    "\n",
    "if num >= 0:\n",
    "    print(\"O valor é positivo\")\n",
    "else:\n",
    "    print(\"O valor é negativo\")\n"
   ]
  },
  {
   "cell_type": "markdown",
   "id": "f340bc68",
   "metadata": {},
   "source": [
    "#### 3. Faça um Programa que verifique se uma letra digitada é \"A\" ou \"V\". Conforme a letra escrever: A - Azul, V - Vermelho ou Cor Inválida."
   ]
  },
  {
   "cell_type": "code",
   "execution_count": null,
   "id": "e79a395f",
   "metadata": {},
   "outputs": [],
   "source": [
    "letra = str(input(\"Digite uma letra: \")).upper()\n",
    "\n",
    "if letra == 'A':\n",
    "    print('A - Azul')\n",
    "elif letra == 'V':\n",
    "    print('V - vermelho')\n",
    "\n",
    "else:\n",
    "    print('Cor inválida')"
   ]
  },
  {
   "cell_type": "markdown",
   "id": "c122c0cf",
   "metadata": {},
   "source": [
    "#### 4. Faça um Programa que verifique se uma letra digitada é vogal ou consoante."
   ]
  },
  {
   "cell_type": "code",
   "execution_count": null,
   "id": "59bed184",
   "metadata": {},
   "outputs": [],
   "source": [
    "letra = str(input(\"Digite uma letra: \")).lower()\n",
    "vogais = ['a', 'e','i', 'o', 'u']\n",
    "\n",
    "if letra in vogais :\n",
    "    print('Voagal')\n",
    "else:\n",
    "    print('Consoante')"
   ]
  },
  {
   "cell_type": "markdown",
   "id": "487ee073",
   "metadata": {},
   "source": [
    "#### 5. Faça um programa para a leitura de duas notas parciais de um aluno. O programa deve calcular a média alcançada por aluno e apresentar:\n",
    "\n",
    "##### A mensagem \"Aprovado\", se a média alcançada for maior ou igual a sete;\n",
    "##### A mensagem \"Reprovado\", se a média for menor do que sete;\n",
    "##### A mensagem \"Aprovado com Distinção\", se a média for igual a dez."
   ]
  },
  {
   "cell_type": "code",
   "execution_count": null,
   "id": "7f5c7096",
   "metadata": {},
   "outputs": [],
   "source": [
    "nota1 = float(input(\"Digite a nota do aluno(a): \"))\n",
    "nota2 = float(input(\"Digite a outra nota do aluno(a): \"))\n",
    "\n",
    "media = (nota1 + nota2) / 2\n",
    "\n",
    "if media >= 10:\n",
    "    print(\"Aprovado com Distinção.\")\n",
    "elif media >= 7:\n",
    "    print(\"Aluno aprovado.\")\n",
    "else:\n",
    "    print(\"Reprovado\")"
   ]
  },
  {
   "cell_type": "markdown",
   "id": "6dd3f171",
   "metadata": {},
   "source": [
    "#### 6. Faça um Programa que leia três números e mostre o maior deles."
   ]
  },
  {
   "cell_type": "code",
   "execution_count": null,
   "id": "51b591e5",
   "metadata": {},
   "outputs": [],
   "source": [
    " num1 = float(input(\"Digite um número: \"))\n",
    " num2 = float(input(\"Digite um número: \"))\n",
    " num3 = float(input(\"Digite um número: \"))\n",
    "\n",
    "maior = max(num1, num2, num3)\n",
    "\n",
    "print(f\"O maior número é: {maior}\")"
   ]
  },
  {
   "cell_type": "markdown",
   "id": "ce09ed1c",
   "metadata": {},
   "source": [
    "#### 7. Faça um Programa que leia três números e mostre o maior e o menor deles."
   ]
  },
  {
   "cell_type": "code",
   "execution_count": null,
   "id": "249f1eb8",
   "metadata": {},
   "outputs": [],
   "source": [
    "num1 = float(input(\"Digite o primeiro número: \"))\n",
    "num2 = float(input(\"Digite o segundo número: \"))\n",
    "num3 = float(input(\"Digite o terceiro número: \"))\n",
    "\n",
    "maior = 0\n",
    "menor = 0\n",
    "\n",
    "if num1 > num2 and num1 > num3:\n",
    "    maior = num1\n",
    "elif num1 < num2 and num1 < num3:\n",
    "    menor = num1\n",
    "\n",
    "if num2 > num1 and num2 > num3:\n",
    "    maior = num2\n",
    "elif num2 < num1 and num2 < num3:\n",
    "    menor = num2\n",
    "    \n",
    "if num3 > num1 and num3 > num2:\n",
    "    maior = num3\n",
    "elif num3 < num1 and num3 < num2:\n",
    "    menor = num3\n",
    "\n",
    "if num1 == num2 and num1 == num3:\n",
    "    maior = num1\n",
    "    menor = num1\n",
    "\n",
    "\n",
    "if num1 == num2 and num2 < num3: #numero 3 é o maior, e od demaias são iguais\n",
    "    maior = num3\n",
    "    menor = num1\n",
    "\n",
    "if num1 == num2 and num2 > num3: \n",
    "    maior = num1\n",
    "    menor = num3\n",
    "    \n",
    "\n",
    "elif num3 == num1 and num1 < num2: #numero 2 é maior e os demais são iguais\n",
    "    maior = num2\n",
    "    menor = num1\n",
    "    \n",
    "elif num3 == num1 and num1 > num2: #numero num3 == num1 e maior que num2\n",
    "    maior = num1\n",
    "    menor = num2\n",
    "\n",
    "\n",
    "elif num2 == num3 and num2 < num1: #numero 1 é maior, e os demais são iguais\n",
    "    maior = num1\n",
    "    menor = num3\n",
    "    \n",
    "elif num2 == num3 and num2 > num1: \n",
    "    maior = num2\n",
    "    menor = num1\n",
    "\n",
    "\n",
    "print(f\"maior: {maior}, menor: {menor}.\")\n",
    "    "
   ]
  },
  {
   "cell_type": "markdown",
   "id": "7453d43a",
   "metadata": {},
   "source": [
    "#### 8. Faça um programa que pergunte o preço de três produtos e informe qual produto você deve comprar, sabendo que a decisão é sempre pelo mais barato."
   ]
  },
  {
   "cell_type": "code",
   "execution_count": null,
   "id": "26a9503e",
   "metadata": {},
   "outputs": [],
   "source": [
    "pre1 = float(input(\"Preço do primeiro profuto: \"))\n",
    "pre2 = float(input(\"Preço do segundo profuto: \"))\n",
    "pre3 = float(input(\"Preço do terceiro profuto: \"))\n",
    "\n",
    "barato = min(pre1, pre2, pre3)\n",
    "\n",
    "print(f\"Voce deve comprar o produto masi baarrto, cujo o preço é: R${barato}\")\n"
   ]
  },
  {
   "cell_type": "markdown",
   "id": "9ade258f",
   "metadata": {},
   "source": [
    "#### 9. Faça um Programa que leia três números e mostre-os em ordem decrescente."
   ]
  },
  {
   "cell_type": "code",
   "execution_count": null,
   "id": "f194c39e",
   "metadata": {},
   "outputs": [],
   "source": [
    "pre1 = float(input(\"primeiro : \"))\n",
    "pre2 = float(input(\"segundo : \"))\n",
    "pre3 = float(input(\"terceiro : \"))\n",
    "\n",
    "menor = min(pre1, pre2, pre3)\n",
    "maior = max(pre1, pre2, pre3)\n",
    "\n",
    "numeros = [maior, menor]\n",
    "\n",
    "if pre1 not in numeros:\n",
    "    medio = pre1\n",
    "elif pre2 not in numeros:\n",
    "    medio = pre2\n",
    "elif pre3 not in numeros:\n",
    "    medio = pre3\n",
    "\n",
    "print(f\"Maior { maior},  Medio {medio}, Menor {menor}. \")"
   ]
  },
  {
   "cell_type": "markdown",
   "id": "d06e2fe8",
   "metadata": {},
   "source": [
    "#### 10. Faça um Programa que pergunte em que turno você estuda. Peça para digitar M-Matutino ou V-Vespertino ou N- Noturno. Imprima a mensagem \"Bom Dia!\", \"Boa Tarde!\" ou \"Boa Noite!\" ou \"Valor Inválido!\", conforme o caso."
   ]
  },
  {
   "cell_type": "code",
   "execution_count": null,
   "id": "1eb36141",
   "metadata": {},
   "outputs": [],
   "source": [
    "turno = str(input(\"Digite a letra de seu turno ( m, v, n): \")).upper()\n",
    "\n",
    "if turno == 'M':\n",
    "    print('M - Bom dia!')\n",
    "elif turno == 'V':\n",
    "    print('V - Boa tarde!')\n",
    "elif turno == 'N':\n",
    "    print('N - Boa noite!')\n",
    "    \n",
    "else:\n",
    "    print('Valor inválido ')"
   ]
  },
  {
   "cell_type": "markdown",
   "id": "4864b755",
   "metadata": {},
   "source": [
    "#### 11. As Organizações Tabajara resolveram dar um aumento de salário aos seus colaboradores e lhe contraram para desenvolver o programa que calculará os reajustes. Faça um programa que recebe o salário de um colaborador e o reajuste segundo o seguinte critério, baseado no salário atual:\n",
    "\n",
    "##### salários até R\\\\$ 280,00 (incluindo) : aumento de 20% \n",
    "\n",
    "##### salários entre R\\\\$ 280,00 e R\\\\$ 700,00 : aumento de 15% \n",
    "\n",
    "##### salários entre R\\\\$ 700,00 e R\\\\$ 1500,00 : aumento de 10% \n",
    "\n",
    "##### salários a partir de R\\\\$ 1500,00 : aumento de 5% Após o aumento ser realizado, informe na tela: \n",
    "\n",
    "###### o salário antes do reajuste;\n",
    "\n",
    "###### o percentual de aumento aplicado;\n",
    "\n",
    "###### o valor do aumento;\n",
    "\n",
    "###### o novo salário, após o aumento."
   ]
  },
  {
   "cell_type": "code",
   "execution_count": null,
   "id": "f0d34916",
   "metadata": {},
   "outputs": [],
   "source": [
    "salario = float(input(\"Digite seu salário: \"))\n",
    "\n",
    "porcentagem = 0.0\n",
    "reajuste = 0\n",
    "\n",
    "if salario <= 280:\n",
    "    porcentagem = 0.20\n",
    "    reajuste = salario * 0.20\n",
    "elif salario >= 280 and salario <= 700:\n",
    "    porcentagem = 0.15\n",
    "    reajuste = salario * 0.15\n",
    "elif salario >= 700 and salario <= 1500:\n",
    "    porcentagem = 0.10\n",
    "    reajuste = salario * 0.10\n",
    "elif salario > 1500:\n",
    "    porcentagem = 0.05\n",
    "    reajuste = salario * 0.05\n",
    "\n",
    "aumento = salario - reajuste\n",
    "novosal = salario + reajuste\n",
    "\n",
    "print(f\"Salário bruto: {salario}\\nPercentual de aumento: {porcentagem}\\nValor do aumento: {aumento}\\nNovo salário: {novosal}\")\n",
    "    \n",
    "    "
   ]
  },
  {
   "cell_type": "markdown",
   "id": "b037f1e8",
   "metadata": {},
   "source": [
    "#### 12 . Faça um programa para o cálculo de uma folha de pagamento, sabendo que os descontos são do Imposto de Renda, que depende do salário bruto (conforme tabela abaixo) e 3% para o Sindicato e que o FGTS corresponde a 11% do Salário Bruto, mas não é descontado (é a empresa que deposita). O Salário Líquido corresponde ao Salário Bruto menos os descontos. O programa deverá pedir ao usuário o valor da sua hora e a quantidade de horas trabalhadas no mês.\n",
    "\n",
    "Desconto do IR:<br>\n",
    "Salário Bruto até 900 (inclusive) - isento<br>\n",
    "Salário Bruto até 1500 (inclusive) - desconto de 5%<br>\n",
    "Salário Bruto até 2500 (inclusive) - desconto de 10%<br>\n",
    "Salário Bruto acima de 2500 - desconto de 20%<br>\n",
    "Imprima na tela as informações, dispostas conforme o exemplo abaixo. No exemplo o valor da hora é 5 e a quantidade de hora é 220.\n",
    "\n",
    "Salário Bruto: (5 * 220)        : R\\\\$ 1100,00<br>\n",
    "(-) IR (5%)                     : R\\\\$   55,00<br>\n",
    "(-) Sindicato (3%)              : R\\\\$  33,00<br>\n",
    "FGTS (11%)                      : R\\\\$  121,00<br>\n",
    "Total de descontos              : R\\\\$  88,00<br>\n",
    "Salário Liquido                 : R\\\\$  1012,00<br>"
   ]
  },
  {
   "cell_type": "code",
   "execution_count": 10,
   "id": "dad18bb2",
   "metadata": {},
   "outputs": [
    {
     "name": "stdin",
     "output_type": "stream",
     "text": [
      "Qual o valor da sua hora de trabalho?  5\n",
      "Quantos dias voce trabalha?  220\n"
     ]
    },
    {
     "name": "stdout",
     "output_type": "stream",
     "text": [
      "Salário bruto: 1100.0\n",
      "Ir: 55.0\n",
      "Sindicato: 33.0\n",
      "FGTS: 121.0\n",
      "Descontos totais: 88.0\n",
      "Novo salário: 1012.0\n"
     ]
    }
   ],
   "source": [
    "horas = float(input(\"Qual o valor da sua hora de trabalho? \"))\n",
    "dias = float(input(\"Quantos dias voce trabalha? \"))\n",
    "\n",
    "sal_bruto = horas * dias\n",
    "\n",
    "ir = 0.0\n",
    "sind = sal_bruto * 0.03\n",
    "fgts = sal_bruto * 0.11\n",
    "\n",
    "if sal_bruto < 900:\n",
    "    ir = 0\n",
    "    sind\n",
    "    fgts\n",
    "elif sal_bruto >= 900 and sal_bruto <= 1500:\n",
    "    ir = sal_bruto * 0.05\n",
    "    fgts\n",
    "    sind\n",
    "elif sal_bruto >= 1500 and sal_bruto <= 2500:\n",
    "    ir = sal_bruto * 0.10\n",
    "    fgts\n",
    "    sind\n",
    "elif sal_bruto > 2500:\n",
    "    ir = sal_bruto * 0.20\n",
    "    fgts\n",
    "    sind\n",
    "\n",
    "desconto = ir + sind\n",
    "sal_liquido = sal_bruto - desconto\n",
    "\n",
    "print(f\"Salário bruto: {sal_bruto}\\nIr: {ir}\\nSindicato: {sind}\\nFGTS: {fgts}\\nDescontos totais: {desconto}\\nNovo salário: {sal_liquido}\")\n",
    "    "
   ]
  },
  {
   "cell_type": "markdown",
   "id": "814fc211",
   "metadata": {},
   "source": [
    "#### 13. Faça um Programa que leia um número e exiba o dia correspondente da semana. (1-Domingo, 2- Segunda, etc.), se digitar outro valor deve aparecer valor inválido."
   ]
  },
  {
   "cell_type": "code",
   "execution_count": 14,
   "id": "f2c2b8d8",
   "metadata": {},
   "outputs": [
    {
     "name": "stdin",
     "output_type": "stream",
     "text": [
      "Digite o dia correspondente a semana:  78\n"
     ]
    },
    {
     "name": "stdout",
     "output_type": "stream",
     "text": [
      "Valor inválido, digite o número de 1 a 7\n"
     ]
    }
   ],
   "source": [
    "dia = str(input(\"Digite o dia correspondente a semana: \"))\n",
    "\n",
    "semana = ['1, 2, 3, 4, 5, 6, 7']\n",
    "\n",
    "if dia == '1':\n",
    "    print('Domingo')\n",
    "elif dia == '2':\n",
    "    print('Segunda')\n",
    "elif dia == '3':\n",
    "    print('Terça')\n",
    "elif dia == '4':\n",
    "    print('Quarta')\n",
    "elif dia == '5':\n",
    "    print('Quinta')\n",
    "elif dia == '6':\n",
    "    print('Sexta')\n",
    "elif dia == '7':\n",
    "    print('Sabado')\n",
    "else:\n",
    "    print('Valor inválido, digite o número de 1 a 7')"
   ]
  },
  {
   "cell_type": "markdown",
   "id": "6e5f461e",
   "metadata": {},
   "source": [
    "#### 14. Faça um programa que lê as duas notas parciais obtidas por um aluno numa disciplina ao longo de um semestre, e calcule a sua média. A atribuição de conceitos obedece à tabela abaixo:\n",
    "<pre>\n",
    "Média de Aproveitamento  Conceito\n",
    "Entre 9.0 e 10.0        A\n",
    "Entre 7.5 e 9.0         B\n",
    "Entre 6.0 e 7.5         C\n",
    "Entre 4.0 e 6.0         D\n",
    "Entre 4.0 e zero        E\n",
    "</pre>"
   ]
  },
  {
   "cell_type": "code",
   "execution_count": 18,
   "id": "29721a43",
   "metadata": {},
   "outputs": [
    {
     "name": "stdin",
     "output_type": "stream",
     "text": [
      "Qual a primeira nota do aluno:  9\n",
      "Qual a segunda nota do aluno:  10\n"
     ]
    },
    {
     "name": "stdout",
     "output_type": "stream",
     "text": [
      "A media do aluno foi: 9.5.Logo sua atribuição será de A\n"
     ]
    }
   ],
   "source": [
    "nota1 = float(input('Qual a primeira nota do aluno: '))\n",
    "nota2 = float(input('Qual a segunda nota do aluno: '))\n",
    "\n",
    "media = (nota1 + nota2) / 2\n",
    "\n",
    "if media >= 9:\n",
    "    resultado = 'A'\n",
    "elif media < 9 and media >= 8:\n",
    "    resultado = 'B'\n",
    "elif media < 8 and media >= 7:\n",
    "    resultado = 'C'\n",
    "elif media < 7 and media >= 6:\n",
    "    resultado = 'D'\n",
    "else:\n",
    "    resultado = 'E'\n",
    "\n",
    "\n",
    "print(f'A media do aluno foi: {media}.Logo sua atribuição será de \"{resultado}\"')\n"
   ]
  },
  {
   "cell_type": "markdown",
   "id": "64ed9c94",
   "metadata": {},
   "source": [
    "#### 15. Faça um Programa que peça os 3 lados de um triângulo. O programa deverá informar se os valores podem ser um triângulo. Indique, caso os lados formem um triângulo, se o mesmo é: equilátero, isósceles ou escaleno.\n",
    "<pre>\n",
    "Dicas:\n",
    "Três lados formam um triângulo quando a soma de quaisquer dois lados for maior que o terceiro;\n",
    "Triângulo Equilátero: três lados iguais;\n",
    "Triângulo Isósceles: quaisquer dois lados iguais;\n",
    "Triângulo Escaleno: três lados diferentes;\n",
    "</pre>"
   ]
  },
  {
   "cell_type": "code",
   "execution_count": 22,
   "id": "0118c901",
   "metadata": {},
   "outputs": [
    {
     "name": "stdin",
     "output_type": "stream",
     "text": [
      "primeiro lado do triangulo:  3\n",
      "segundo lado do triangulo:  3\n",
      "terceiro lado do triangulo:  3\n"
     ]
    },
    {
     "name": "stdout",
     "output_type": "stream",
     "text": [
      "Este é um triângulo esquilátero\n"
     ]
    }
   ],
   "source": [
    "lado1 = float(input('primeiro lado do triangulo: '))\n",
    "lado2 = float(input('segundo lado do triangulo: '))\n",
    "lado3 = float(input('terceiro lado do triangulo: '))\n",
    "\n",
    "if (lado1 + lado2) > lado3:\n",
    "    triangulo = 1\n",
    "else:\n",
    "    print('Este não pode ser um triângulo.')\n",
    "\n",
    "if lado1 == lado2 == lado3:\n",
    "    print('Este é um triângulo esquilátero')\n",
    "elif lado1 > lado2 and lado2 ==lado3:\n",
    "    print('triangulo Ióseles')\n",
    "elif lado2 > lado3 and lado2 ==lado1:\n",
    "    print('triangulo Ióseles')\n",
    "elif lado3 > lado2 and lado3 ==lado1:\n",
    "    print('Triangulo isóceles')\n",
    "elif lado1 != lado2 != lado3 and lado3 != lado1:\n",
    "    print('Triangulo Escaleno')\n"
   ]
  },
  {
   "cell_type": "markdown",
   "id": "76615f4f",
   "metadata": {},
   "source": [
    "#### 16. Faça um programa que calcule as raízes de uma equação do segundo grau, na forma ax² + bx + c. O programa deverá pedir os valores de a, b e c e fazer as consistências, informando ao usuário nas seguintes situações:\n",
    "<pre>\n",
    "Se o usuário informar o valor de A igual a zero, a equação não é do segundo grau e o programa não deve fazer pedir os demais valores, sendo encerrado;\n",
    "Se o delta calculado for negativo, a equação não possui raizes reais. Informe ao usuário e encerre o programa;\n",
    "Se o delta calculado for igual a zero a equação possui apenas uma raiz real; informe-a ao usuário;\n",
    "Se o delta for positivo, a equação possui duas raiz reais; informe-as ao usuário;\n",
    "\n",
    "\n",
    "</pre>\n",
    "Como calcular delta:\n",
    "\n",
    "$ \\Delta = b^2 - 4 \\cdot a \\cdot c$\n",
    "\n",
    "Como calcular as raízes:\n",
    "\n",
    "$ x = \\frac{-b \\pm \\sqrt{\\Delta}}{2a} $\n",
    "\n",
    "Mais sobre equações quadráticas:\n",
    "https://pt.wikipedia.org/wiki/Equa%C3%A7%C3%A3o_quadr%C3%A1tica"
   ]
  },
  {
   "cell_type": "code",
   "execution_count": 31,
   "id": "d22989b7",
   "metadata": {},
   "outputs": [
    {
     "name": "stdin",
     "output_type": "stream",
     "text": [
      "Informe A:  1\n",
      "Informe B:  0\n",
      "Informe C:  0\n"
     ]
    },
    {
     "name": "stdout",
     "output_type": "stream",
     "text": [
      "Delta = 0\n",
      "O resultado dessa equação é: 0.0 ou 0.0.\n"
     ]
    }
   ],
   "source": [
    "a = int(input('Informe A: '))\n",
    "\n",
    "\n",
    "if a <= 0:\n",
    "    print('A equação não é de segundo grau. Recomece!')\n",
    "else:\n",
    "    b = int(input('Informe B: '))\n",
    "    c = int(input('Informe C: '))\n",
    "\n",
    "    delta = b ** 2 - 4 * a * c\n",
    "    if delta < 0:\n",
    "        print('O delta não pode ser negativo. Recomece.')\n",
    "    else:\n",
    "        print(f'Delta = {delta}')\n",
    "        resul_pos = (-b + delta)/2 * a\n",
    "        resul_neg = (-b - delta)/2 * a\n",
    "        print(f'O resultado dessa equação é: {resul_neg} ou {resul_pos}.')"
   ]
  },
  {
   "cell_type": "markdown",
   "id": "e6b3bcaf",
   "metadata": {},
   "source": [
    "#### 17. Faça um Programa que peça um número correspondente a um determinado ano e em seguida informe se este ano é ou não bissexto.\n",
    "<pre>\n",
    "São bissextos todos os anos múltiplos de 400. Exemplos: 1200, 1600, 2000, 2400, 2800...\n",
    "São bissextos todos os anos múltiplos de 4, exceto se for múltiplo de 100 mas não de 400. Exemplos: 1996, 2000, 2004, 2008, 2012, 2016, 2020, 2024, 2028...\n",
    "Não são bissextos todos os demais anos.\n",
    "</pre>"
   ]
  },
  {
   "cell_type": "code",
   "execution_count": 37,
   "id": "56af223f",
   "metadata": {},
   "outputs": [
    {
     "name": "stdin",
     "output_type": "stream",
     "text": [
      "Digite um ano:  2024\n"
     ]
    },
    {
     "name": "stdout",
     "output_type": "stream",
     "text": [
      "Esse ano 2024 é bissexto\n"
     ]
    }
   ],
   "source": [
    "num = int(input('Digite um ano: '))\n",
    "\n",
    "if (num % 400 == 0) or (num % 4 == 0 and num % 100 != 0):\n",
    "    print(f'Esse ano {num} é bissexto')\n",
    "else: \n",
    "    print('Esse ano não é bissexto')"
   ]
  },
  {
   "cell_type": "markdown",
   "id": "0071eea5",
   "metadata": {},
   "source": [
    "#### 18. Faça um Programa que peça um número inteiro e determine se ele é par ou impar."
   ]
  },
  {
   "cell_type": "code",
   "execution_count": 42,
   "id": "2a730c87",
   "metadata": {},
   "outputs": [
    {
     "name": "stdin",
     "output_type": "stream",
     "text": [
      "Digite um número inteiro:  65\n"
     ]
    },
    {
     "name": "stdout",
     "output_type": "stream",
     "text": [
      "Este número é impar.\n"
     ]
    }
   ],
   "source": [
    "num = int(input('Digite um número inteiro: '))\n",
    "\n",
    "if (num %2 == 0):\n",
    "    print('Este número é par')\n",
    "else:\n",
    "    print('Este número é impar.')"
   ]
  },
  {
   "cell_type": "markdown",
   "id": "061e1825",
   "metadata": {},
   "source": [
    "#### 19. Faça um Programa que peça um número e informe se o número é inteiro ou decimal."
   ]
  },
  {
   "cell_type": "code",
   "execution_count": 49,
   "id": "6fb53217",
   "metadata": {},
   "outputs": [
    {
     "name": "stdin",
     "output_type": "stream",
     "text": [
      "Digite um número interito ou decimal:  45.45\n"
     ]
    },
    {
     "name": "stdout",
     "output_type": "stream",
     "text": [
      "Número não inteiro\n"
     ]
    }
   ],
   "source": [
    "num = float(input('Digite um número interito ou decimal: '))\n",
    "\n",
    "if (num % 1 != 0):\n",
    "    print('Número decimal')\n",
    "else:\n",
    "    print('Número inteiro')"
   ]
  },
  {
   "cell_type": "markdown",
   "id": "7dce3c09",
   "metadata": {},
   "source": [
    "#### 20. Faça um Programa que leia 2 números e em seguida pergunte ao usuário qual operação ele deseja realizar. O resultado da operação deve ser acompanhado de uma frase que diga se o número é:\n",
    "<pre>\n",
    "par ou ímpar;\n",
    "positivo ou negativo;\n",
    "inteiro ou decimal.\n",
    "</pre>"
   ]
  },
  {
   "cell_type": "code",
   "execution_count": 51,
   "id": "f62c8012",
   "metadata": {},
   "outputs": [
    {
     "name": "stdin",
     "output_type": "stream",
     "text": [
      "Digite o primeiro numero:  45\n",
      "Digite o segundo numero:  5\n",
      "Digite a operação desejada(+ , - , *, / ):  /\n"
     ]
    },
    {
     "name": "stdout",
     "output_type": "stream",
     "text": [
      "Resultado da operação é: 9.0.\n",
      "O valor é impar\n",
      "O valor é positivo\n",
      "O valor é inteiro\n"
     ]
    }
   ],
   "source": [
    "num1 = float(input('Digite o primeiro numero: '))\n",
    "num2 = float(input('Digite o segundo numero: '))\n",
    "operacao = input('Digite a operação desejada(+ , - , *, / ): ')\n",
    " \n",
    "if operacao == '+':\n",
    "    resultado = (num1 + num2)\n",
    "elif operacao == '-':\n",
    "    resultado = (num1 - num2)\n",
    "elif operacao == '*':\n",
    "    operacao = num1 * num2\n",
    "elif operacao == '/':\n",
    "    if num2 != 0:\n",
    "        resultado = num1 / num2\n",
    "    else:\n",
    "        print('Erro: Divisão por zero!')\n",
    "else:\n",
    "    print('Operação inválida!')\n",
    "\n",
    " \n",
    "print(f'Resultado da operação é: {resultado}.')\n",
    " \n",
    " \n",
    "if resultado % 2 == 0: #Valor é impar ou par\n",
    "    print('O valor é par')\n",
    "else:\n",
    "    print('O valor é impar')\n",
    " \n",
    "if resultado < 0: #Valor é positivo ou negativo\n",
    "    print('O valor é negativo')\n",
    "else:\n",
    "    print('O valor é positivo')\n",
    " \n",
    "if resultado == int(resultado):#Valor e inteiro ou decimal\n",
    "    print('O valor é inteiro')\n",
    "else:\n",
    "    print('O valor é decimal')"
   ]
  },
  {
   "cell_type": "code",
   "execution_count": null,
   "id": "a51ca680-44cd-4f0f-b298-80342610e7da",
   "metadata": {},
   "outputs": [],
   "source": []
  }
 ],
 "metadata": {
  "kernelspec": {
   "display_name": "Python 3 (ipykernel)",
   "language": "python",
   "name": "python3"
  },
  "language_info": {
   "codemirror_mode": {
    "name": "ipython",
    "version": 3
   },
   "file_extension": ".py",
   "mimetype": "text/x-python",
   "name": "python",
   "nbconvert_exporter": "python",
   "pygments_lexer": "ipython3",
   "version": "3.12.7"
  }
 },
 "nbformat": 4,
 "nbformat_minor": 5
}
