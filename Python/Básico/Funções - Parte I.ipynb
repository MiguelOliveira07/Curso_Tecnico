{
 "cells": [
  {
   "cell_type": "markdown",
   "id": "4d647be6",
   "metadata": {},
   "source": [
    "# Funções - Parte I\n",
    "\n",
    "### O que é?\n",
    "\n",
    "As funções são blocos de código que servem um único propósito, fazem uma ação específica, reaproveitando código ao longo do programa e modularizando-o, tornando mais legível e intuitivo.\n",
    "\n",
    "### Estrutura Básica"
   ]
  },
  {
   "cell_type": "raw",
   "id": "d4b740d5",
   "metadata": {},
   "source": [
    "def nome_funcao():\n",
    "    faça alguma coisa\n",
    "    faça outra coisa\n",
    "    return valor_final"
   ]
  },
  {
   "cell_type": "markdown",
   "id": "5708bf2b",
   "metadata": {},
   "source": [
    "## Importante: Sua função deve estar criada SEMPRE antes de ser usada.\n",
    "\n",
    "- Normalmente, nos nossos códigos, fazemos as definições de todas as funções antes e depois construimos o resto do código.\n",
    "- É comum dar '2 enters' após a definição da função para deixar o código mais organizado"
   ]
  },
  {
   "cell_type": "markdown",
   "id": "94031513",
   "metadata": {},
   "source": [
    "###### <b>EXERCÍCIO</b>: Crie uma função de cadastro de um Produto. Essa função deve garantir que o produto cadastrado está em letra minúscula e sem espaços antes e depois do nome do produto."
   ]
  },
  {
   "cell_type": "code",
   "execution_count": null,
   "id": "0b2b241c",
   "metadata": {},
   "outputs": [],
   "source": [
    "def cadastro_produto (msg):\n",
    "\n",
    "    produto = str(input(msg))\n",
    "    produtos_lista = []\n",
    "    produtos_lista.append(produto)\n",
    "    \n",
    "    return(produtos_lista)\n"
   ]
  },
  {
   "cell_type": "code",
   "execution_count": null,
   "id": "141b33f0",
   "metadata": {
    "scrolled": true
   },
   "outputs": [],
   "source": [
    "#Chame a função aqui\n",
    "\n",
    "cadastro_produto('Insira o produto aqui:')\n"
   ]
  },
  {
   "cell_type": "markdown",
   "id": "4974aaad",
   "metadata": {},
   "source": [
    "###### <b>EXERCÍCIO</b>: Modifique a função criada acima para retornar o produto criado."
   ]
  },
  {
   "cell_type": "code",
   "execution_count": null,
   "id": "1db28915",
   "metadata": {},
   "outputs": [],
   "source": [
    "#Crie a função aqui\n",
    "def cadastro_produto (msg):\n",
    "\n",
    "    produto = str(input(msg))\n",
    "    produtos_lista = []\n",
    "    produtos_lista.append(produto)\n",
    "    \n",
    "    return(produto)\n"
   ]
  },
  {
   "cell_type": "code",
   "execution_count": null,
   "id": "fd1f7a08",
   "metadata": {},
   "outputs": [],
   "source": [
    "#Chame a função aqui\n",
    "\n",
    "cadastro_produto('Insira o produto aqui:')"
   ]
  },
  {
   "cell_type": "markdown",
   "id": "d8110726",
   "metadata": {},
   "source": [
    "# Argumentos/Parâmetros da Função\n",
    "\n",
    "### Estrutura:"
   ]
  },
  {
   "cell_type": "raw",
   "id": "fdedb95d",
   "metadata": {},
   "source": [
    "def minha_funcao(parametro1, parametro2, parametro3):\n",
    "    return parametro1 + parametro2 + parametro3"
   ]
  },
  {
   "cell_type": "markdown",
   "id": "e16afda9",
   "metadata": {},
   "source": [
    "###### EXEMPLO: O famoso print"
   ]
  },
  {
   "cell_type": "code",
   "execution_count": null,
   "id": "a995dfde",
   "metadata": {},
   "outputs": [],
   "source": [
    "print('texto', 123)"
   ]
  },
  {
   "cell_type": "markdown",
   "id": "83a3a0a9",
   "metadata": {},
   "source": [
    "###### <b>EXERCÍCIO</b>: Crie uma função que receba 3 (três) números como parâmetros e retorne a soma deles."
   ]
  },
  {
   "cell_type": "code",
   "execution_count": null,
   "id": "f8bc03f2",
   "metadata": {},
   "outputs": [],
   "source": [
    "#Crie a função aqui\n",
    "def soma(arg1 = 0, arg2 =0 , arg3 = 0):\n",
    "    arg1 = float(input())\n",
    "    arg2 = float(input())\n",
    "    arg3 = float(input())\n",
    "    return arg1 + arg2 + arg3\n",
    "\n"
   ]
  },
  {
   "cell_type": "code",
   "execution_count": null,
   "id": "5f2d5854",
   "metadata": {},
   "outputs": [],
   "source": [
    "#Chame a função aqui\n",
    "\n",
    "soma()"
   ]
  },
  {
   "cell_type": "markdown",
   "id": "34593c68",
   "metadata": {},
   "source": [
    "###### <b>EXERCÍCIO</b>: CATEGORIZANDO PRODUTOS:  \n",
    "\n",
    "Digamos que estamos criando um programa para categorizar os produtos de uma revendedora de bebidas.\n",
    "\n",
    "Cada produto tem um código. O tipo de produto é dado pelas 3 primeiras letras do código.\n",
    "\n",
    "Ex:<br>\n",
    "Vinho -> BEB12302<br>\n",
    "Cerveja -> BEB12043<br>\n",
    "Vodka -> BEB34501<br>\n",
    "\n",
    "Guaraná -> BSA11104<br>\n",
    "Coca -> BSA54301<br>\n",
    "Sprite -> BSA34012<br>\n",
    "Água -> BSA09871<br>\n",
    "\n",
    "Repare que bebidas não alcóolicas começam com BSA e bebidas alcoolicas começam com BEB.\n",
    "\n",
    "Crie um programa que analise uma lista de produtos e envie instruções para a equipe de estoque dizendo quais produtos devem ser enviados para a área de bebidas alcóolicas."
   ]
  },
  {
   "cell_type": "markdown",
   "id": "c65cee09",
   "metadata": {},
   "source": [
    "- 1º passo: Percorrer toda a lista de produtos;\n",
    "- 2º passo: Para cada produto, verificar se ele é bebida alcóolica;\n",
    "- 3º passo: Se for bebida alcóolica, exibir a mensagem para a o setor responsável."
   ]
  },
  {
   "cell_type": "code",
   "execution_count": null,
   "id": "8fe120e1",
   "metadata": {},
   "outputs": [],
   "source": [
    "#Lista de Produtos\n",
    "\n",
    "produtos = [\n",
    "    'beb46275',\n",
    "    'TFA23962',\n",
    "    'TFA64715',\n",
    "    'TFA69555',\n",
    "    'TFA56743',\n",
    "    'BSA45510',\n",
    "    'TFA44968',\n",
    "    'CAR75448',\n",
    "    'CAR23596',\n",
    "    'CAR13490',\n",
    "    'bEB21365',\n",
    "    'BeB31623',\n",
    "    'BSA62419',\n",
    "    'BEb73344',\n",
    "    'TFA20079',\n",
    "    'BEB80694',\n",
    "    'BSA11769',\n",
    "    'BEB19495',\n",
    "    'TFA14792',\n",
    "    'TFA78043',\n",
    "    'BSA33484',\n",
    "    'beB97471',\n",
    "    'BEB62362',\n",
    "    'TFA27311',\n",
    "    'TFA17715',\n",
    "    'BEB85146',\n",
    "    'Beb48898',\n",
    "    'beB79496',\n",
    "    'CAR38417',\n",
    "    'TFA19947',\n",
    "    'TFA58799',\n",
    "    'CAR94811',\n",
    "    'BSA59251',\n",
    "    'BEB15385',\n",
    "    'beb24213',\n",
    "    'bEb56262',\n",
    "    'BSA96915',\n",
    "    'CAR53454',\n",
    "    'beb75073',\n",
    "]"
   ]
  },
  {
   "cell_type": "code",
   "execution_count": null,
   "id": "63559800",
   "metadata": {},
   "outputs": [],
   "source": [
    "def categorizar_produtos(produtos):\n",
    "    bebidas_alcoolicas = []\n",
    "\n",
    "    for codigo in produtos:\n",
    "        # Converte o código para maiúsculas para garantir a comparação correta\n",
    "        if codigo.upper().startswith(\"BEB\"):\n",
    "            bebidas_alcoolicas.append(codigo)\n",
    "\n",
    "    return bebidas_alcoolicas\n",
    "\n",
    "def enviar_instrucoes_estoque(bebidas_alcoolicas):\n",
    "    print(\"Instruções para a equipe de estoque:\")\n",
    "    print(\"Os seguintes produtos devem ser enviados para a área de bebidas alcoólicas:\")\n",
    "    for bebida in bebidas_alcoolicas:\n",
    "        print(bebida)\n",
    "\n",
    "# Lista de produtos\n",
    "produtos = [\n",
    "    'beb46275', 'TFA23962', 'TFA64715', 'TFA69555', 'TFA56743', 'BSA45510', 'TFA44968',\n",
    "    'CAR75448', 'CAR23596', 'CAR13490', 'bEB21365', 'BeB31623', 'BSA62419', 'BEb73344',\n",
    "    'TFA20079', 'BEB80694', 'BSA11769', 'BEB19495', 'TFA14792', 'TFA78043', 'BSA33484',\n",
    "    'beB97471', 'BEB62362', 'TFA27311', 'TFA17715', 'BEB85146', 'Beb48898', 'beB79496',\n",
    "    'CAR38417', 'TFA19947', 'TFA58799', 'CAR94811', 'BSA59251', 'BEB15385', 'beb24213',\n",
    "    'bEb56262', 'BSA96915', 'CAR53454', 'beb75073'\n",
    "]\n",
    "\n",
    "bebidas_alcoolicas = categorizar_produtos(produtos)\n",
    "\n",
    "enviar_instrucoes_estoque(bebidas_alcoolicas)"
   ]
  },
  {
   "cell_type": "markdown",
   "id": "42b2e2fb",
   "metadata": {},
   "source": [
    "# Mais de um argumento e formas de passar argumentos para uma função\n",
    "\n",
    "### Estrutura:\n",
    "\n",
    "- 2 formas de passar o argumento:\n",
    "    1. Em ordem (positional argument)\n",
    "    2. Com o nome do argumento (keyword argument)"
   ]
  },
  {
   "cell_type": "markdown",
   "id": "c2fb26eb",
   "metadata": {},
   "source": [
    "###### EXEMPLO: Utilize o argumento \"sep\" na função print para modificar a impressão na tela"
   ]
  },
  {
   "cell_type": "code",
   "execution_count": null,
   "id": "b654cd08",
   "metadata": {},
   "outputs": [],
   "source": [
    "#Crie o código aqui\n",
    "\n",
    "print('texto',123,'texto123', sep='\\n')"
   ]
  },
  {
   "cell_type": "code",
   "execution_count": null,
   "id": "3ddb88d4",
   "metadata": {},
   "outputs": [],
   "source": [
    "#Crie o código aqui\n",
    "\n",
    "print('texto1', 'texto2', 'texto3', 'texto4', 'texto5', 'texto6', sep = ' ---> ')"
   ]
  },
  {
   "cell_type": "markdown",
   "id": "933cd67e",
   "metadata": {},
   "source": [
    "###### <b>EXERCÍCIO</b>: Utilize os parâmetros acima de mudança de cor em strings abaixo, e, crie funções para alterar as cores de textos digitados pelo usuário:"
   ]
  },
  {
   "cell_type": "code",
   "execution_count": null,
   "id": "3f1e0346",
   "metadata": {},
   "outputs": [],
   "source": [
    "print('MUDAR COR EM VOLTA DA STRING:\\n')\n",
    "\n",
    "cor = 'verde'\n",
    "texto = f'A cor em volta da variável é \\033[42m{cor}\\033[0m e depois volta ao padrão.'\n",
    "print(texto)\n",
    "\n",
    "print('\\nDemais cores:\\n')\n",
    "\n",
    "texto = f'\\033[40mA cor em volta do texto é preta\\033[0m e depois volta ao padrão.'\n",
    "print(texto)\n",
    "\n",
    "texto = f'\\033[41mA cor em volta do texto é vermelha\\033[0m e depois volta ao padrão.'\n",
    "print(texto)\n",
    "\n",
    "texto = f'\\033[42mA cor em volta do texto é verde\\033[0m e depois volta ao padrão.'\n",
    "print(texto)\n",
    "\n",
    "texto = f'\\033[43mA cor em volta do texto é amarela\\033[0m e depois volta ao padrão.'\n",
    "print(texto)\n",
    "\n",
    "texto = f'\\033[44mA cor em volta do texto é azul\\033[0m e depois volta ao padrão.'\n",
    "print(texto)\n",
    "\n",
    "texto = f'\\033[45mA cor em volta do texto é magenta\\033[0m e depois volta ao padrão.'\n",
    "print(texto)\n",
    "\n",
    "texto = f'\\033[46mA cor em volta do texto é ciano\\033[0m e depois volta ao padrão.'\n",
    "print(texto)\n",
    "\n",
    "texto = f'\\033[47mA cor em volta do texto é cinza\\033[0m e depois volta ao padrão.'\n",
    "print(texto)\n",
    "\n",
    "print('\\nMUDAR COR DA STRING:\\n')\n",
    "\n",
    "cor = 'verde'\n",
    "texto = f'A cor da variável é \\033[92m{cor}\\033[0m e depois volta ao padrão.'\n",
    "print(texto)\n",
    "\n",
    "print('\\nDemais cores:\\n')\n",
    "\n",
    "texto = f'\\033[91mA cor do texto é vermelha\\033[0m e depois volta ao padrão.'\n",
    "print(texto)\n",
    "\n",
    "texto = f'\\033[92mA cor do texto é verde\\033[0m e depois volta ao padrão.'\n",
    "print(texto)\n",
    "\n",
    "texto = f'\\033[93mA cor do texto é amarela\\033[0m e depois volta ao padrão.'\n",
    "print(texto)\n",
    "\n",
    "texto = f'\\033[94mA cor do texto é azul\\033[0m e depois volta ao padrão.'\n",
    "print(texto)\n",
    "\n",
    "texto = f'\\033[95mA cor do texto é magenta\\033[0m e depois volta ao padrão.'\n",
    "print(texto)\n",
    "\n",
    "texto = f'\\033[96mA cor do texto é ciano\\033[0m e depois volta ao padrão.'\n",
    "print(texto)\n",
    "\n",
    "texto = f'\\033[97mA cor do texto é cinza\\033[0m e depois volta ao padrão.'\n",
    "print(texto)\n",
    "\n",
    "print()\n",
    "\n",
    "texto = f'\\033[1mNegrito\\033[0m'\n",
    "print(texto)\n",
    "\n",
    "texto = f'\\033[4mSublinhado\\033[0m'\n",
    "print(texto)\n",
    "\n",
    "texto = f'\\033[7mInverso\\033[0m'\n",
    "print(texto)"
   ]
  },
  {
   "cell_type": "code",
   "execution_count": null,
   "id": "01f2462a",
   "metadata": {},
   "outputs": [],
   "source": [
    "#Crie a função aqui\n",
    "\n",
    "def escolha_cor():\n",
    "    cor = "
   ]
  },
  {
   "cell_type": "code",
   "execution_count": null,
   "id": "8080af1b",
   "metadata": {},
   "outputs": [],
   "source": [
    "#Crie o código aqui\n",
    "\n"
   ]
  },
  {
   "cell_type": "markdown",
   "id": "4ac6909a",
   "metadata": {},
   "source": [
    "###### <b>EXERCÍCIO</b>: Altere a função do exercício anterior: CATEGORIZANDO PRODUTOS, para conseguir categorizar qualquer tipo de bebida de acordo com o \"rótulo\" passado para a nossa função. Basicamente, a função agora tem que verificar se o produto é da categoria passada, ou não."
   ]
  },
  {
   "cell_type": "code",
   "execution_count": null,
   "id": "b41c8b62",
   "metadata": {},
   "outputs": [],
   "source": [
    "# Lista de Produtos\n",
    "\n",
    "produtos = ['CAR46275','TFA23962','TFA64715','TFA69555','TFA56743','BSA45510','TFA44968','CAR75448','CAR23596','CAR13490','BEB21365','BEB31623','BSA62419','BEB73344','TFA20079','BEB80694','BSA11769','BEB19495','TFA14792','TFA78043','BSA33484','BEB97471','BEB62362','TFA27311','TFA17715','BEB85146','BEB48898','BEB79496','CAR38417','TFA19947','TFA58799','CAR94811','BSA59251','BEB15385','BEB24213','BEB56262','BSA96915','CAR53454','BEB75073']"
   ]
  },
  {
   "cell_type": "code",
   "execution_count": null,
   "id": "9b6b4b1e",
   "metadata": {},
   "outputs": [
    {
     "ename": "SyntaxError",
     "evalue": "invalid syntax. Maybe you meant '==' or ':=' instead of '='? (2586836642.py, line 8)",
     "output_type": "error",
     "traceback": [
      "\u001b[1;36m  Cell \u001b[1;32mIn[27], line 8\u001b[1;36m\u001b[0m\n\u001b[1;33m    return(f'A bebida é alcolica, eis a lista ({lista_bebidas})', sep = ' - ')\u001b[0m\n\u001b[1;37m                                                                  ^\u001b[0m\n\u001b[1;31mSyntaxError\u001b[0m\u001b[1;31m:\u001b[0m invalid syntax. Maybe you meant '==' or ':=' instead of '='?\n"
     ]
    }
   ],
   "source": [
    "#Crie a função aqui\n",
    "\n",
    "def alcolica_ou_n():\n",
    "    lista_bebidas = []\n",
    "    for bebida in produtos:\n",
    "        if bebida.startswith('BEB'):\n",
    "            lista_bebidas.append(bebida)\n",
    "    return(f'A bebida é alcolica, eis a lista ({lista_bebidas})')\n",
    "\n",
    "alcolica_ou_n()"
   ]
  },
  {
   "cell_type": "markdown",
   "id": "64d24db4",
   "metadata": {},
   "source": [
    "###### <b>EXERCÍCIO</b>: CÁLCULO DE CARGA TRIBUTÁRIA:\n",
    "\n",
    "Imagine que você trabalha no setor contábil de uma grande empresa de Varejo. \n",
    "\n",
    "Crie uma função que calcule qual o % de carga tributária que está sendo aplicado sobre um determinado produto, dado o preço de venda, o \"lucro\" e os custos (com exceção do imposto) dele.\n",
    "\n",
    "- Repare que preço - custo não é igual ao lucro, porque ainda foi descontado o imposto.\n",
    "- Sua função deve calcular qual foi o % de imposto aplicado sobre o preço total."
   ]
  },
  {
   "cell_type": "code",
   "execution_count": null,
   "id": "be0caf0c",
   "metadata": {},
   "outputs": [],
   "source": [
    "# Valores fornecidos\n",
    "\n",
    "preco = 1500\n",
    "custo = 400\n",
    "lucro = 800"
   ]
  },
  {
   "cell_type": "code",
   "execution_count": 30,
   "id": "107e57b7",
   "metadata": {},
   "outputs": [],
   "source": [
    "# Crie sua função aqui\n",
    "\n",
    "def carga_tributaria():\n",
    "    preco = float(input('Insira o preço: '))\n",
    "    custo = float(input('Insira o custo: '))\n",
    "    imposto = preco * 0.20\n",
    "    lucro = preco - custo - imposto\n",
    "\n",
    "    return(f'O valor do imposto será de R${imposto:.2f},00. Já o seu lucro será de R${lucro:.2f},00')"
   ]
  },
  {
   "cell_type": "code",
   "execution_count": 32,
   "id": "89f89782",
   "metadata": {},
   "outputs": [
    {
     "data": {
      "text/plain": [
       "'O valor do imposto será de R$40.00. Já o seu lucro será de R$110.00'"
      ]
     },
     "execution_count": 32,
     "metadata": {},
     "output_type": "execute_result"
    }
   ],
   "source": [
    "def carga_tributaria():\n",
    "    preco = float(input('Insira o preço: '))\n",
    "    custo = float(input('Insira o custo: '))\n",
    "    imposto = preco * 0.20\n",
    "    lucro = preco - custo - imposto\n",
    "\n",
    "    return(f'O valor do imposto será de R${imposto:.2f}. Já o seu lucro será de R${lucro:.2f}')\n",
    "\n",
    "carga_tributaria()"
   ]
  },
  {
   "cell_type": "code",
   "execution_count": null,
   "id": "5bd52c00",
   "metadata": {},
   "outputs": [],
   "source": []
  }
 ],
 "metadata": {
  "kernelspec": {
   "display_name": "Python 3",
   "language": "python",
   "name": "python3"
  },
  "language_info": {
   "codemirror_mode": {
    "name": "ipython",
    "version": 3
   },
   "file_extension": ".py",
   "mimetype": "text/x-python",
   "name": "python",
   "nbconvert_exporter": "python",
   "pygments_lexer": "ipython3",
   "version": "3.13.2"
  }
 },
 "nbformat": 4,
 "nbformat_minor": 5
}
